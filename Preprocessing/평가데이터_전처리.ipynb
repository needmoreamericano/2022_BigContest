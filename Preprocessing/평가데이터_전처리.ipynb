{
 "cells": [
  {
   "cell_type": "markdown",
   "metadata": {
    "id": "N1IUWqNuxx-Y"
   },
   "source": [
    "# 라이브러리 설치"
   ]
  },
  {
   "cell_type": "code",
   "execution_count": null,
   "metadata": {
    "colab": {
     "base_uri": "https://localhost:8080/"
    },
    "id": "3VJ0hpSgyYJc",
    "outputId": "7a8b332f-637f-486f-99b8-67fbbe519502"
   },
   "outputs": [
    {
     "name": "stdout",
     "output_type": "stream",
     "text": [
      "Mounted at /content/drive\n"
     ]
    }
   ],
   "source": [
    "from google.colab import drive\n",
    "drive.mount('/content/drive')"
   ]
  },
  {
   "cell_type": "markdown",
   "metadata": {
    "id": "fP3nk7Lyyc-J"
   },
   "source": [
    "# data 리키지를 막기 위한 real_test 분리\n"
   ]
  },
  {
   "cell_type": "code",
   "execution_count": null,
   "metadata": {
    "id": "NxhcqMst0h4M"
   },
   "outputs": [],
   "source": [
    "import pandas as pd\n",
    "\n",
    "user = pd.read_csv(\"/content/drive/Shareddrives/빅콘테스트/데이터/2022빅콘테스트_데이터분석리그_데이터분석분야_퓨처스부문_데이터셋_220908.zip (Unzipped Files)/user_spec.csv\")\n",
    "result = pd.read_csv(\"/content/drive/Shareddrives/빅콘테스트/데이터/2022빅콘테스트_데이터분석리그_데이터분석분야_퓨처스부문_데이터셋_220908.zip (Unzipped Files)/loan_result.csv\")"
   ]
  },
  {
   "cell_type": "code",
   "execution_count": null,
   "metadata": {
    "id": "BB1yIq4y7sL_"
   },
   "outputs": [],
   "source": [
    "a = list(result.loc[result['is_applied'].isna(),'application_id'].unique())"
   ]
  },
  {
   "cell_type": "code",
   "execution_count": null,
   "metadata": {
    "id": "b6JH0uNp79OI"
   },
   "outputs": [],
   "source": [
    "real_test_user = user.loc[user['application_id'].isin(a),]\n",
    "real_test_result = result.loc[result['is_applied'].isna(),]"
   ]
  },
  {
   "cell_type": "code",
   "execution_count": null,
   "metadata": {
    "id": "1drNP5gH79SV"
   },
   "outputs": [],
   "source": [
    "user = user.loc[~(user['application_id'].isin(a))]\n",
    "result = result[result['is_applied'].notna()]"
   ]
  },
  {
   "cell_type": "markdown",
   "metadata": {
    "id": "hxEceJIW6xdm"
   },
   "source": [
    "# real_test_user 전처리"
   ]
  },
  {
   "cell_type": "markdown",
   "metadata": {
    "id": "Mbs2jfqnCUUW"
   },
   "source": [
    "## 결측치"
   ]
  },
  {
   "cell_type": "code",
   "execution_count": null,
   "metadata": {
    "colab": {
     "base_uri": "https://localhost:8080/"
    },
    "id": "Hlu0x_Wr3OsJ",
    "outputId": "a93dde2a-ecce-4e4f-835c-88ef1e913aec"
   },
   "outputs": [
    {
     "data": {
      "text/plain": [
       "application_id                              0\n",
       "user_id                                     0\n",
       "birth_year                               2603\n",
       "gender                                   2603\n",
       "insert_time                                 0\n",
       "credit_score                                0\n",
       "yearly_income                               1\n",
       "income_type                                 0\n",
       "company_enter_month                     23902\n",
       "employment_type                             0\n",
       "houseown_type                               0\n",
       "desired_amount                              0\n",
       "purpose                                     0\n",
       "personal_rehabilitation_yn               1110\n",
       "personal_rehabilitation_complete_yn    187775\n",
       "existing_loan_cnt                       30522\n",
       "existing_loan_amt                       50922\n",
       "dtype: int64"
      ]
     },
     "execution_count": 5,
     "metadata": {},
     "output_type": "execute_result"
    }
   ],
   "source": [
    "real_test_user['credit_score'] = real_test_user['credit_score'].fillna(value=0)\n",
    "real_test_user.isna().sum()"
   ]
  },
  {
   "cell_type": "code",
   "execution_count": null,
   "metadata": {
    "id": "GRvF9EbP1M3Q"
   },
   "outputs": [],
   "source": [
    "real_test_user['age'] = 2022 - real_test_user['birth_year'] + 1\n",
    "user['age'] = 2022 - user['birth_year'] + 1 # train 데이터의 평균값으로 채움\n",
    "real_test_user['age'] = real_test_user['age'].fillna(value=user['age'].median())"
   ]
  },
  {
   "cell_type": "code",
   "execution_count": null,
   "metadata": {
    "id": "4FMmq9F4-DoX"
   },
   "outputs": [],
   "source": [
    "real_test_user.drop('birth_year', axis=1, inplace=True)"
   ]
  },
  {
   "cell_type": "code",
   "execution_count": null,
   "metadata": {
    "id": "-lZvoZ1d5IWn"
   },
   "outputs": [],
   "source": [
    "real_test_user['personal_rehabilitation_yn'] = real_test_user['personal_rehabilitation_yn'].fillna(value=0)\n",
    "real_test_user['personal_rehabilitation_complete_yn'] = real_test_user['personal_rehabilitation_complete_yn'].fillna(value=0)"
   ]
  },
  {
   "cell_type": "code",
   "execution_count": null,
   "metadata": {
    "id": "WGNK7B1B5Trp"
   },
   "outputs": [],
   "source": [
    "real_test_user['existing_loan_amt'] = real_test_user['existing_loan_amt'].fillna(value=0)\n",
    "real_test_user['existing_loan_cnt'] = real_test_user['existing_loan_cnt'].fillna(value=0)"
   ]
  },
  {
   "cell_type": "code",
   "execution_count": null,
   "metadata": {
    "id": "Y2uMvwnVwGbG"
   },
   "outputs": [],
   "source": [
    "# yearly_income에만 결측치가 있으므로 user_id 참고하지 않고 train데이터의 평균값으로 채움\n",
    "real_test_user['yearly_income'].fillna(user['yearly_income'].median(), inplace=True)"
   ]
  },
  {
   "cell_type": "code",
   "execution_count": null,
   "metadata": {
    "colab": {
     "base_uri": "https://localhost:8080/"
    },
    "id": "mwVG0_QybnuT",
    "outputId": "6df8e6f7-7222-424f-ee05-8cd78925da88"
   },
   "outputs": [
    {
     "name": "stderr",
     "output_type": "stream",
     "text": [
      "100%|██████████| 2603/2603 [00:07<00:00, 335.22it/s]\n"
     ]
    }
   ],
   "source": [
    "from tqdm import tqdm \n",
    "\n",
    "column = 'gender'\n",
    "a = real_test_user.loc[real_test_user['gender'].isna()]\n",
    "for i, row in tqdm(a.iterrows(), total = a.shape[0]):\n",
    "  b = user.loc[user['user_id']==row['user_id']]\n",
    "  if len(b) == 1: pass\n",
    "  else:\n",
    "    try:\n",
    "      real_test_user.at[i,column] = b[column].mode()\n",
    "    except:\n",
    "      pass\n",
    "\n",
    "\n"
   ]
  },
  {
   "cell_type": "code",
   "execution_count": null,
   "metadata": {
    "id": "IAog37AyT9yv"
   },
   "outputs": [],
   "source": [
    "# desired_amount를 높은 그룹 낮은 그룹 해서 각각 그룹에서 7:3 해서 남성: 여성\n",
    "real_test_user.loc[real_test_user[(real_test_user['existing_loan_amt']>30000000)&(real_test_user['gender'].isna())][:360].index, 'gender'] = 1\n",
    "real_test_user.loc[real_test_user[(real_test_user['existing_loan_amt']>30000000)&(real_test_user['gender'].isna())].index, 'gender'] = 0\n",
    "\n",
    "real_test_user.loc[real_test_user[(real_test_user['existing_loan_amt']<=30000000)&(real_test_user['gender'].isna())][:1170].index, 'gender']=1\n",
    "real_test_user.loc[real_test_user[(real_test_user['existing_loan_amt']<=30000000)&(real_test_user['gender'].isna())].index, 'gender']=0"
   ]
  },
  {
   "cell_type": "code",
   "execution_count": null,
   "metadata": {
    "colab": {
     "base_uri": "https://localhost:8080/"
    },
    "id": "PE61CpFeXh_0",
    "outputId": "a1d6b628-30c3-43b7-ad66-72a17a715057"
   },
   "outputs": [
    {
     "data": {
      "text/plain": [
       "application_id                             0\n",
       "user_id                                    0\n",
       "gender                                     0\n",
       "insert_time                                0\n",
       "credit_score                               0\n",
       "yearly_income                              0\n",
       "income_type                                0\n",
       "company_enter_month                    23902\n",
       "employment_type                            0\n",
       "houseown_type                              0\n",
       "desired_amount                             0\n",
       "purpose                                    0\n",
       "personal_rehabilitation_yn                 0\n",
       "personal_rehabilitation_complete_yn        0\n",
       "existing_loan_cnt                          0\n",
       "existing_loan_amt                          0\n",
       "age                                        0\n",
       "dtype: int64"
      ]
     },
     "execution_count": 13,
     "metadata": {},
     "output_type": "execute_result"
    }
   ],
   "source": [
    "real_test_user.isna().sum()"
   ]
  },
  {
   "cell_type": "markdown",
   "metadata": {
    "id": "YobCYHnX6z5I"
   },
   "source": [
    "## 카테고리"
   ]
  },
  {
   "cell_type": "code",
   "execution_count": null,
   "metadata": {
    "id": "ZXo0O4iB8UWz"
   },
   "outputs": [],
   "source": [
    "real_test_user['foreign'] = [0] * len(real_test_user)\n",
    "real_test_user.loc[real_test_user['purpose'].isin(['LIVING ','SWITCHLOAN','BUSINESS','ETC','HOUSEDEPOSIT','BUYHOUSE','INVEST','BUYCAR']),'foreign'] = 1"
   ]
  },
  {
   "cell_type": "code",
   "execution_count": null,
   "metadata": {
    "colab": {
     "base_uri": "https://localhost:8080/"
    },
    "id": "_07hVbo99JEE",
    "outputId": "bac77c5e-1874-4f9a-824a-0fabf7761f43"
   },
   "outputs": [
    {
     "data": {
      "text/plain": [
       "생활비       142901\n",
       "대환대출       67341\n",
       "사업자금       11410\n",
       "전월세보증금      5721\n",
       "기타          5483\n",
       "주택구입        4170\n",
       "투자          2762\n",
       "자동차구입        161\n",
       "Name: purpose, dtype: int64"
      ]
     },
     "execution_count": 15,
     "metadata": {},
     "output_type": "execute_result"
    }
   ],
   "source": [
    "real_test_user.loc[real_test_user['purpose']=='LIVING','purpose'] = '생활비'\n",
    "real_test_user.loc[real_test_user['purpose']=='SWITCHLOAN','purpose'] = '대환대출'\n",
    "real_test_user.loc[real_test_user['purpose']=='BUSINESS','purpose'] = '사업자금'\n",
    "real_test_user.loc[real_test_user['purpose']=='ETC','purpose'] = '기타'\n",
    "real_test_user.loc[real_test_user['purpose']=='HOUSEDEPOSIT','purpose'] = '전월세보증금'\n",
    "real_test_user.loc[real_test_user['purpose']=='BUYHOUSE','purpose'] = '주택구입'\n",
    "real_test_user.loc[real_test_user['purpose']=='INVEST','purpose'] = '투자'\n",
    "real_test_user.loc[real_test_user['purpose']=='BUYCAR','purpose'] = '자동차구입'\n",
    "real_test_user['purpose'].value_counts()"
   ]
  },
  {
   "cell_type": "markdown",
   "metadata": {
    "id": "ELBoOY8cDNaz"
   },
   "source": [
    "## 추가 처리및 파생변수 \n",
    "- company_enter_month 결측치 \n",
    "- 개인회생자 3 카테고리화\n",
    "- 연수입/ 기대수입"
   ]
  },
  {
   "cell_type": "code",
   "execution_count": null,
   "metadata": {
    "id": "9tjrQ-3jjCkO"
   },
   "outputs": [],
   "source": [
    "company_enter_month = '000000'\n",
    "real_test_user.fillna({'company_enter_month':company_enter_month},inplace=True )"
   ]
  },
  {
   "cell_type": "code",
   "execution_count": null,
   "metadata": {
    "id": "ETb2prgBlcBP"
   },
   "outputs": [],
   "source": [
    "real_test_user['company_enter_month']= real_test_user['company_enter_month'].astype(str)\n",
    "\n",
    "real_test_user['enter_y'] = real_test_user['company_enter_month'].str[:4]  #입사 년\n",
    "real_test_user['enter_m'] = real_test_user['company_enter_month'].str[4:6] #입사 월\n",
    "real_test_user['enter_y'] = real_test_user['enter_y'].astype(int)\n",
    "real_test_user['enter_m'] = real_test_user['enter_m'].astype(int)"
   ]
  },
  {
   "cell_type": "code",
   "execution_count": null,
   "metadata": {
    "id": "7bd68t3JjEu3"
   },
   "outputs": [],
   "source": [
    "real_test_user['insert_time'] = pd.to_datetime(real_test_user['insert_time'])\n",
    "real_test_user['insert_time'] = real_test_user['insert_time'].dt.to_period(freq='D')\n",
    "real_test_user['insert_time']  = real_test_user['insert_time'].values.astype('datetime64[D]')"
   ]
  },
  {
   "cell_type": "code",
   "execution_count": null,
   "metadata": {
    "id": "Uptg1PvA31fH"
   },
   "outputs": [],
   "source": [
    "def f3(user2):\n",
    "    if (user2['enter_y'] != 0):\n",
    "      user2['company_enter_month']= user2['company_enter_month'][:4] + '-' + user2['company_enter_month'][4:6]  + '-'+ '01'\n",
    "      user2['company_enter_month'] = pd.to_datetime(user2['company_enter_month'])\n",
    "      diff = user2['insert_time'] - user2['company_enter_month']\n",
    "      val = diff.days\n",
    "    else:\n",
    "        val = 0\n",
    "    return val"
   ]
  },
  {
   "cell_type": "code",
   "execution_count": null,
   "metadata": {
    "id": "MxcRF34Y347h"
   },
   "outputs": [],
   "source": [
    "import numpy as np\n",
    "real_test_user['employee_d'] = real_test_user.apply(f3, axis=1)\n",
    "real_test_user['employee_d'] = np.abs(real_test_user['employee_d'].astype(int))  #음수로 맘대로 쓴 사람 2명 있어서 이건 그냥 절댓값 씌워버림"
   ]
  },
  {
   "cell_type": "code",
   "execution_count": null,
   "metadata": {
    "id": "aWa47b4o9zte"
   },
   "outputs": [],
   "source": [
    "real_test_user['employee_y'] = real_test_user['employee_d']//365  #근무년수\n",
    "real_test_user['employee_m'] = real_test_user['employee_d']//30  #근무개월수 "
   ]
  },
  {
   "cell_type": "code",
   "execution_count": null,
   "metadata": {
    "id": "QJnNTdQ5UJit"
   },
   "outputs": [],
   "source": [
    "real_test_user['month'] = real_test_user['insert_time'].dt.month #월\n",
    "real_test_user['day'] = real_test_user['insert_time'].dt.day #일\n",
    "real_test_user['hour'] = real_test_user['insert_time'].dt.hour #시\n",
    "real_test_user['weekday'] = real_test_user['insert_time'].dt.weekday # 요일숫자(0-월, 1-화) \n",
    "real_test_user['week_num'] = real_test_user['insert_time'].dt.isocalendar().week  #주차 이름"
   ]
  },
  {
   "cell_type": "code",
   "execution_count": null,
   "metadata": {
    "id": "5LjRVbQUljxM"
   },
   "outputs": [],
   "source": [
    "#아예 회생자가 아닌 경우\n",
    "real_test_user['personal_rehabilitation_type'] = 0\n",
    "#회생자&반환완료\n",
    "real_test_user.loc[(real_test_user['personal_rehabilitation_yn']==1) & (real_test_user['personal_rehabilitation_complete_yn']==1), 'personal_rehabilitation_type'] = 1\n",
    "#회생자&반환못함\n",
    "real_test_user.loc[(real_test_user['personal_rehabilitation_yn']==1) & (real_test_user['personal_rehabilitation_complete_yn']==0), 'personal_rehabilitation_type'] = 2"
   ]
  },
  {
   "cell_type": "code",
   "execution_count": null,
   "metadata": {
    "id": "wbxW7-1nmM1J"
   },
   "outputs": [],
   "source": [
    "#  연수입 / 기대금액 변수생성\n",
    "real_test_user.loc[real_test_user['desired_amount']==0, 'desired_amount'] = user['desired_amount'].median()\n",
    "real_test_user['amount_income_rate'] = real_test_user['yearly_income']/real_test_user['desired_amount']"
   ]
  },
  {
   "cell_type": "code",
   "execution_count": null,
   "metadata": {
    "id": "AJxSVeMekJ1p"
   },
   "outputs": [],
   "source": [
    "# real_test_user.to_csv(\"/content/drive/Shareddrives/빅콘테스트/데이터/전처리한 데이터 셋/찐또배기 test/preprocessed_user_test.csv\", index=False)"
   ]
  },
  {
   "cell_type": "markdown",
   "metadata": {
    "id": "Mi96vgz0-SgC"
   },
   "source": [
    "# result 전처리"
   ]
  },
  {
   "cell_type": "markdown",
   "metadata": {
    "id": "J8I4chUeF66z"
   },
   "source": [
    "## 결측치"
   ]
  },
  {
   "cell_type": "code",
   "execution_count": null,
   "metadata": {
    "colab": {
     "base_uri": "https://localhost:8080/"
    },
    "id": "fpQyEIn2gwLy",
    "outputId": "3c8e4aa9-13d1-4be1-9a2e-144e712f4907"
   },
   "outputs": [
    {
     "data": {
      "text/plain": [
       "[21, 202, 232, 193, 102, 4, 130, 76, 201, 13, 116, 52, 33, 53, 64]"
      ]
     },
     "execution_count": 26,
     "metadata": {},
     "output_type": "execute_result"
    }
   ],
   "source": [
    "# 채우기전에 limit nan = 금액한도없음 & rate nan = 금리없음 product_id 특징 만들어주기\n",
    "no_limit = real_test_result[real_test_result['loan_limit'].isnull()]['product_id'].unique()\n",
    "no_limit_list =[]\n",
    "\n",
    "for i in no_limit:\n",
    "  if type(real_test_result[real_test_result['product_id']==i]['loan_limit'].mean()) == float and pd.isna(real_test_result[real_test_result['product_id']==21]['loan_limit'].mean()):\n",
    "    no_limit_list.append(i)\n",
    "no_limit_list"
   ]
  },
  {
   "cell_type": "code",
   "execution_count": null,
   "metadata": {
    "id": "dZIa1uaTi_mk"
   },
   "outputs": [],
   "source": [
    "# 같은 product id를 가진 limit의 평균으로 채움\n",
    "for pr in no_limit:\n",
    "  try:\n",
    "    x = int(result.loc[result['product_id']==pr, 'loan_limit'].describe()['mean'])\n",
    "    real_test_result.loc[(real_test_result['product_id']==pr)&(real_test_result['loan_limit'].isnull()), 'loan_limit'] = x\n",
    "  except:\n",
    "    real_test_result.loc[(real_test_result['product_id']==pr)&(real_test_result['loan_limit'].isnull()), 'loan_limit']=int(result['loan_limit'].describe()['max'])\n",
    "    "
   ]
  },
  {
   "cell_type": "code",
   "execution_count": null,
   "metadata": {
    "colab": {
     "base_uri": "https://localhost:8080/"
    },
    "id": "4e5uZk-jg52E",
    "outputId": "74bc9a19-360a-466f-a310-bc2bd913c2ed"
   },
   "outputs": [
    {
     "data": {
      "text/plain": [
       "[21, 202, 232, 193, 102, 4, 130, 76, 201, 13, 116, 52, 33, 53, 64]"
      ]
     },
     "execution_count": 28,
     "metadata": {},
     "output_type": "execute_result"
    }
   ],
   "source": [
    "# loan_rate도 마찬가지로\n",
    "no_rate = real_test_result[real_test_result['loan_rate'].isnull()]['product_id'].unique()\n",
    "no_rate_list =[]\n",
    "\n",
    "for i in no_limit:\n",
    "  if type(real_test_result[real_test_result['product_id']==i]['loan_rate'].mean()) == float and pd.isna(real_test_result[real_test_result['product_id']==21]['loan_rate'].mean()):\n",
    "    no_rate_list.append(i)\n",
    "\n",
    "no_rate_list "
   ]
  },
  {
   "cell_type": "code",
   "execution_count": null,
   "metadata": {
    "id": "JZ_nKwRKi_o2"
   },
   "outputs": [],
   "source": [
    "# loan_rate도 마찬가지로\n",
    "# 같은 product id를 가진 rate의 평균으로 채움\n",
    "no_rate = real_test_result[real_test_result['loan_rate'].isnull()]['product_id'].unique()\n",
    "\n",
    "for pr in no_rate:\n",
    "  try:\n",
    "    x = int(result.loc[result['product_id']==pr, 'loan_rate'].describe()['mean'])\n",
    "    real_test_result.loc[(real_test_result['product_id']==pr)&(real_test_result['loan_rate'].isnull()), 'loan_rate'] = x\n",
    "  except:\n",
    "    real_test_result.loc[(real_test_result['product_id']==pr)&(real_test_result['loan_rate'].isnull()), 'loan_rate']=int(result['loan_rate'].describe()['min'])\n",
    "    "
   ]
  },
  {
   "cell_type": "code",
   "execution_count": null,
   "metadata": {
    "id": "NY6wGyhLk5IW"
   },
   "outputs": [],
   "source": [
    "# real_test_result.to_csv(\"/content/drive/Shareddrives/빅콘테스트/데이터/전처리한 데이터 셋/찐또배기 test/preprocessed_loan_test.csv\", index=False)"
   ]
  },
  {
   "cell_type": "markdown",
   "metadata": {
    "id": "o_DJUwt4lRvT"
   },
   "source": [
    "## merge"
   ]
  },
  {
   "cell_type": "code",
   "execution_count": null,
   "metadata": {
    "id": "EQwj2WpHqdIM"
   },
   "outputs": [],
   "source": [
    "df = pd.merge(real_test_result, real_test_user,on='application_id', how='left')"
   ]
  },
  {
   "cell_type": "code",
   "execution_count": null,
   "metadata": {
    "id": "B7Z6YSXfg_Wg"
   },
   "outputs": [],
   "source": [
    "df['no_limit_product'] = [0] * len(df)\n",
    "df.loc[(df['product_id'].isin([i for i in no_limit_list])), 'no_limit_product'] = 1"
   ]
  },
  {
   "cell_type": "code",
   "execution_count": null,
   "metadata": {
    "id": "sv18ONjzzPOm"
   },
   "outputs": [],
   "source": [
    "df.to_csv(\"/content/drive/Shareddrives/빅콘테스트/혜림/최후/test_save.csv\", index=False)"
   ]
  },
  {
   "cell_type": "markdown",
   "metadata": {
    "id": "ikgfLaxkYLPb"
   },
   "source": [
    "#파생변수"
   ]
  },
  {
   "cell_type": "markdown",
   "metadata": {
    "id": "55wcLJPeYNPd"
   },
   "source": [
    "## 합쳐서 만들어야 하는 파생변수\n"
   ]
  },
  {
   "cell_type": "code",
   "execution_count": null,
   "metadata": {
    "id": "TPgqbYHFV44d"
   },
   "outputs": [],
   "source": [
    "import pandas as pd\n",
    "df = pd.read_csv(\"/content/drive/Shareddrives/빅콘테스트/혜림/최후/test_save.csv\")"
   ]
  },
  {
   "cell_type": "code",
   "execution_count": null,
   "metadata": {
    "id": "viIx51fZYKYF"
   },
   "outputs": [],
   "source": [
    "df_train = pd.read_csv(\"/content/drive/Shareddrives/빅콘테스트/데이터/전처리한 데이터 셋/모델링용 데이터/preprocessed_user.csv\")\n",
    "df = df.append(df_train[df_train.columns])"
   ]
  },
  {
   "cell_type": "code",
   "execution_count": null,
   "metadata": {
    "id": "q3gaZKbBp563"
   },
   "outputs": [],
   "source": [
    "def grade(x):\n",
    " if x>941 : \n",
    "   return 1\n",
    " elif x>890:\n",
    "   return 2\n",
    " elif x>831:\n",
    "   return 3\n",
    " elif x>767:\n",
    "   return 4\n",
    " elif x>697:\n",
    "   return 5\n",
    " elif x>629:\n",
    "   return 6\n",
    " elif x>529:\n",
    "   return 7\n",
    " elif x>453:\n",
    "   return 8\n",
    " elif x>334:\n",
    "   return 9\n",
    " else:\n",
    "   return 10\n",
    "\n",
    "df['credit_grade'] = df['credit_score'].apply(grade) "
   ]
  },
  {
   "cell_type": "code",
   "execution_count": null,
   "metadata": {
    "id": "fVvdMdFOYTAa"
   },
   "outputs": [],
   "source": [
    "a = df.groupby(['user_id'])\n",
    "b = a['credit_grade'].nunique()!=1\n",
    "\n",
    "temp = b.reset_index()\n",
    "temp.loc[temp['credit_grade']==True, 'user_id']\n",
    "\n",
    "df['credit_changed'] = [0] * len(df)\n",
    "df.loc[df['user_id'].isin(temp.loc[temp['credit_grade']==True, 'user_id'].tolist()), 'credit_changed'] = 1 "
   ]
  },
  {
   "cell_type": "code",
   "execution_count": null,
   "metadata": {
    "id": "I0Xqx8Y9aRLu"
   },
   "outputs": [],
   "source": [
    "#몇 번째 신청인지\n",
    "temp = df.groupby(['user_id','application_id'])['loanapply_insert_time'].rank(method='min', ascending=True)\n",
    "df['appli_order'] = temp"
   ]
  },
  {
   "cell_type": "code",
   "execution_count": null,
   "metadata": {
    "id": "LiE8boYubB4m"
   },
   "outputs": [],
   "source": [
    "a = df.groupby(['user_id'])\n",
    "b = a['yearly_income'].nunique()>=2\n",
    "\n",
    "temp = b.reset_index()\n",
    "temp.loc[temp['yearly_income']==True, 'user_id']\n",
    "\n",
    "df['income_changed'] = [0] * len(df)\n",
    "df.loc[df['user_id'].isin(temp.loc[temp['yearly_income']==True, 'user_id'].tolist()), 'income_changed'] = 1   #변동o : 400만, 변동x : 600만"
   ]
  },
  {
   "cell_type": "code",
   "execution_count": null,
   "metadata": {
    "id": "9Yx4YtgVbFO4"
   },
   "outputs": [],
   "source": [
    "df = df[:3257239]"
   ]
  },
  {
   "cell_type": "markdown",
   "metadata": {
    "id": "GUTSMIiqsBUU"
   },
   "source": [
    "## 평일이면서 9~17시"
   ]
  },
  {
   "cell_type": "code",
   "execution_count": null,
   "metadata": {
    "id": "0QTEIkbewScG"
   },
   "outputs": [],
   "source": [
    "def f4(df):\n",
    "    if (df['weekday'] <=4) & (df['hour'] in (9,17)) :  \n",
    "        val = 1\n",
    "    else:\n",
    "        val = 0\n",
    "    return val"
   ]
  },
  {
   "cell_type": "code",
   "execution_count": null,
   "metadata": {
    "colab": {
     "base_uri": "https://localhost:8080/"
    },
    "id": "pSh2EevX4Dtw",
    "outputId": "419ae5b0-8622-482a-bcaf-d21f6431af58"
   },
   "outputs": [
    {
     "name": "stderr",
     "output_type": "stream",
     "text": [
      "/usr/local/lib/python3.7/dist-packages/ipykernel_launcher.py:1: SettingWithCopyWarning: \n",
      "A value is trying to be set on a copy of a slice from a DataFrame.\n",
      "Try using .loc[row_indexer,col_indexer] = value instead\n",
      "\n",
      "See the caveats in the documentation: https://pandas.pydata.org/pandas-docs/stable/user_guide/indexing.html#returning-a-view-versus-a-copy\n",
      "  \"\"\"Entry point for launching an IPython kernel.\n",
      "/usr/local/lib/python3.7/dist-packages/ipykernel_launcher.py:2: SettingWithCopyWarning: \n",
      "A value is trying to be set on a copy of a slice from a DataFrame.\n",
      "Try using .loc[row_indexer,col_indexer] = value instead\n",
      "\n",
      "See the caveats in the documentation: https://pandas.pydata.org/pandas-docs/stable/user_guide/indexing.html#returning-a-view-versus-a-copy\n",
      "  \n"
     ]
    }
   ],
   "source": [
    "df['loanapply_insert_time'] = pd.to_datetime(df['loanapply_insert_time'])\n",
    "df['hour'] = df['loanapply_insert_time'].dt.hour #시"
   ]
  },
  {
   "cell_type": "code",
   "execution_count": null,
   "metadata": {
    "colab": {
     "base_uri": "https://localhost:8080/"
    },
    "id": "4nXjx7GIxwRT",
    "outputId": "5b927935-daad-4fdf-edd4-d4c74aee6955"
   },
   "outputs": [
    {
     "name": "stderr",
     "output_type": "stream",
     "text": [
      "/usr/local/lib/python3.7/dist-packages/ipykernel_launcher.py:3: SettingWithCopyWarning: \n",
      "A value is trying to be set on a copy of a slice from a DataFrame.\n",
      "Try using .loc[row_indexer,col_indexer] = value instead\n",
      "\n",
      "See the caveats in the documentation: https://pandas.pydata.org/pandas-docs/stable/user_guide/indexing.html#returning-a-view-versus-a-copy\n",
      "  This is separate from the ipykernel package so we can avoid doing imports until\n",
      "/usr/local/lib/python3.7/dist-packages/pandas/core/indexing.py:1817: SettingWithCopyWarning: \n",
      "A value is trying to be set on a copy of a slice from a DataFrame.\n",
      "Try using .loc[row_indexer,col_indexer] = value instead\n",
      "\n",
      "See the caveats in the documentation: https://pandas.pydata.org/pandas-docs/stable/user_guide/indexing.html#returning-a-view-versus-a-copy\n",
      "  self._setitem_single_column(loc, value, pi)\n"
     ]
    }
   ],
   "source": [
    "# df['week_pop'] = df.apply(f4, axis=1)\n",
    "\n",
    "df['week_pop'] = [0] * len(df)\n",
    "df.loc[(df['weekday'] <=4)&(df['hour'].isin([i for i in range(9, 17+1)])), 'week_pop'] = 1"
   ]
  },
  {
   "cell_type": "code",
   "execution_count": null,
   "metadata": {
    "colab": {
     "base_uri": "https://localhost:8080/"
    },
    "id": "SH24BUC4qghX",
    "outputId": "c88ab5df-87ec-4b32-80f0-ebc7c174a1d9"
   },
   "outputs": [
    {
     "name": "stderr",
     "output_type": "stream",
     "text": [
      "/usr/local/lib/python3.7/dist-packages/ipykernel_launcher.py:3: SettingWithCopyWarning: \n",
      "A value is trying to be set on a copy of a slice from a DataFrame.\n",
      "Try using .loc[row_indexer,col_indexer] = value instead\n",
      "\n",
      "See the caveats in the documentation: https://pandas.pydata.org/pandas-docs/stable/user_guide/indexing.html#returning-a-view-versus-a-copy\n",
      "  This is separate from the ipykernel package so we can avoid doing imports until\n",
      "/usr/local/lib/python3.7/dist-packages/ipykernel_launcher.py:4: SettingWithCopyWarning: \n",
      "A value is trying to be set on a copy of a slice from a DataFrame.\n",
      "Try using .loc[row_indexer,col_indexer] = value instead\n",
      "\n",
      "See the caveats in the documentation: https://pandas.pydata.org/pandas-docs/stable/user_guide/indexing.html#returning-a-view-versus-a-copy\n",
      "  after removing the cwd from sys.path.\n",
      "/usr/local/lib/python3.7/dist-packages/ipykernel_launcher.py:5: SettingWithCopyWarning: \n",
      "A value is trying to be set on a copy of a slice from a DataFrame.\n",
      "Try using .loc[row_indexer,col_indexer] = value instead\n",
      "\n",
      "See the caveats in the documentation: https://pandas.pydata.org/pandas-docs/stable/user_guide/indexing.html#returning-a-view-versus-a-copy\n",
      "  \"\"\"\n"
     ]
    }
   ],
   "source": [
    "#log 변환\n",
    "df['employee_d'] = np.log1p(df['employee_d'])\n",
    "df['employee_y'] = np.log1p(df['employee_y'])\n",
    "df['employee_m'] = np.log1p(df['employee_m'])"
   ]
  },
  {
   "cell_type": "markdown",
   "metadata": {
    "id": "5TzfaNdsco3f"
   },
   "source": [
    "## train 반영해서 만들어야 하는 파생변수"
   ]
  },
  {
   "cell_type": "code",
   "execution_count": null,
   "metadata": {
    "id": "6NMctuuj1hBA"
   },
   "outputs": [],
   "source": [
    "del df_train"
   ]
  },
  {
   "cell_type": "code",
   "execution_count": null,
   "metadata": {
    "id": "PraydDM5cr8M"
   },
   "outputs": [],
   "source": [
    "import pandas as pd\n",
    "\n",
    "df_train = pd.read_csv(\"/content/drive/Shareddrives/빅콘테스트/데이터/전처리한 데이터 셋/모델링용 데이터/merged_df.csv\")"
   ]
  },
  {
   "cell_type": "markdown",
   "metadata": {
    "id": "luMsw2ANdEBf"
   },
   "source": [
    "### train 셋 은행 상품 bin"
   ]
  },
  {
   "cell_type": "code",
   "execution_count": null,
   "metadata": {
    "id": "pPrBEu75dEBf"
   },
   "outputs": [],
   "source": [
    "def make_bin(df, variable, n):\n",
    "    \n",
    "    data = df\n",
    "    count, bin_dividers = np.histogram(data[variable], bins=n)\n",
    "    bin_names=[str(i) for i in range(n)]\n",
    "    data['%s_bin' % variable] = pd.cut(x=data[variable], bins=bin_dividers, labels=bin_names, include_lowest=True)\n",
    "    data['%s_bin' % variable] = pd.factorize(data['%s_bin' % variable])[0]\n",
    "    print(data['%s_bin' % variable], '\\n\\n')\n",
    "    \n",
    "    return data"
   ]
  },
  {
   "cell_type": "code",
   "execution_count": null,
   "metadata": {
    "colab": {
     "base_uri": "https://localhost:8080/"
    },
    "id": "_4Qu8vZ8dEBf",
    "outputId": "df222d86-52ae-4435-b404-660b6cecef98"
   },
   "outputs": [
    {
     "name": "stdout",
     "output_type": "stream",
     "text": [
      "0      0\n",
      "1      0\n",
      "2      0\n",
      "3      0\n",
      "4      0\n",
      "      ..\n",
      "173    4\n",
      "174    0\n",
      "175    0\n",
      "176    1\n",
      "177    0\n",
      "Name: is_applied_bin, Length: 178, dtype: int64 \n",
      "\n",
      "\n"
     ]
    }
   ],
   "source": [
    "data = df_train.groupby(by=['product_id']).sum()\n",
    "data = data[['is_applied']]\n",
    "data = data.reset_index().rename(columns={\"index\": \"id\"})\n",
    "\n",
    "data = make_bin(data, 'is_applied', n=5)"
   ]
  },
  {
   "cell_type": "code",
   "execution_count": null,
   "metadata": {
    "id": "6UjWPzWUdEBg"
   },
   "outputs": [],
   "source": [
    "type_0 = data[data['is_applied_bin']==0]['product_id'].tolist()\n",
    "type_1 = data[data['is_applied_bin']==1]['product_id'].tolist()\n",
    "type_2 = data[data['is_applied_bin']==2]['product_id'].tolist()\n",
    "type_3 = data[data['is_applied_bin']==3]['product_id'].tolist()\n",
    "type_4 = data[data['is_applied_bin']==4]['product_id'].tolist()"
   ]
  },
  {
   "cell_type": "code",
   "execution_count": null,
   "metadata": {
    "id": "LVR1lUzSdEBg"
   },
   "outputs": [],
   "source": [
    "df_train['product_bin'] = len(df_train) * [0]\n",
    "df_train['product_bin'] = np.where(df_train['product_id'].isin(type_0), 1, df_train['product_bin'])\n",
    "df_train['product_bin'] = np.where(df_train['product_id'].isin(type_1), 2, df_train['product_bin'])\n",
    "df_train['product_bin'] = np.where(df_train['product_id'].isin(type_2), 3, df_train['product_bin'])\n",
    "df_train['product_bin'] = np.where(df_train['product_id'].isin(type_3), 4, df_train['product_bin'])\n",
    "df_train['product_bin'] = np.where(df_train['product_id'].isin(type_4), 5, df_train['product_bin'])"
   ]
  },
  {
   "cell_type": "code",
   "execution_count": null,
   "metadata": {
    "colab": {
     "base_uri": "https://localhost:8080/"
    },
    "id": "Yq6e75nAdEBh",
    "outputId": "7575e5a2-2792-4013-a7ca-2c65c4e29d95"
   },
   "outputs": [
    {
     "name": "stdout",
     "output_type": "stream",
     "text": [
      "0     0\n",
      "1     1\n",
      "2     1\n",
      "3     2\n",
      "4     1\n",
      "     ..\n",
      "57    1\n",
      "58    1\n",
      "59    0\n",
      "60    2\n",
      "61    1\n",
      "Name: is_applied_bin, Length: 62, dtype: int64 \n",
      "\n",
      "\n"
     ]
    }
   ],
   "source": [
    "data = df_train.groupby(by=['bank_id']).sum()\n",
    "data = data[['is_applied']]\n",
    "data = data.reset_index().rename(columns={\"index\": \"id\"})\n",
    "\n",
    "data = make_bin(data, 'is_applied', n=5)"
   ]
  },
  {
   "cell_type": "code",
   "execution_count": null,
   "metadata": {
    "id": "SXVh6HMddEBi"
   },
   "outputs": [],
   "source": [
    "type_0 = data[data['is_applied_bin']==0]['bank_id'].tolist()\n",
    "type_1 = data[data['is_applied_bin']==1]['bank_id'].tolist()\n",
    "type_2 = data[data['is_applied_bin']==2]['bank_id'].tolist()\n",
    "type_3 = data[data['is_applied_bin']==3]['bank_id'].tolist()\n",
    "type_4 = data[data['is_applied_bin']==4]['bank_id'].tolist()"
   ]
  },
  {
   "cell_type": "code",
   "execution_count": null,
   "metadata": {
    "id": "IXLQf_57dEBi"
   },
   "outputs": [],
   "source": [
    "df_train['bank_bin'] = len(df_train) * [0]\n",
    "df_train['bank_bin'] = np.where(df_train['bank_id'].isin(type_0), 1, df_train['bank_bin'])\n",
    "df_train['bank_bin'] = np.where(df_train['bank_id'].isin(type_1), 2, df_train['bank_bin'])\n",
    "df_train['bank_bin'] = np.where(df_train['bank_id'].isin(type_2), 3, df_train['bank_bin'])\n",
    "df_train['bank_bin'] = np.where(df_train['bank_id'].isin(type_3), 4, df_train['bank_bin'])\n",
    "df_train['bank_bin'] = np.where(df_train['bank_id'].isin(type_4), 5, df_train['bank_bin'])"
   ]
  },
  {
   "cell_type": "markdown",
   "metadata": {
    "id": "bHXyArFqsFcY"
   },
   "source": [
    "### test 셋 은행 상품 bin"
   ]
  },
  {
   "cell_type": "code",
   "execution_count": null,
   "metadata": {
    "id": "oFnmcmUTue-A"
   },
   "outputs": [],
   "source": [
    "df_bin = df_train[['product_id', 'bank_id', 'is_applied']]"
   ]
  },
  {
   "cell_type": "code",
   "execution_count": null,
   "metadata": {
    "id": "7rK-1nmncc2L"
   },
   "outputs": [],
   "source": [
    "del df_train"
   ]
  },
  {
   "cell_type": "code",
   "execution_count": null,
   "metadata": {
    "colab": {
     "base_uri": "https://localhost:8080/"
    },
    "id": "SC9gFl1ULOLN",
    "outputId": "7fa4b2f2-9a99-4b93-bdcb-51caee1caabd"
   },
   "outputs": [
    {
     "name": "stdout",
     "output_type": "stream",
     "text": [
      "0      0\n",
      "1      0\n",
      "2      0\n",
      "3      0\n",
      "4      0\n",
      "      ..\n",
      "173    4\n",
      "174    0\n",
      "175    0\n",
      "176    1\n",
      "177    0\n",
      "Name: is_applied_bin, Length: 178, dtype: int64 \n",
      "\n",
      "\n"
     ]
    }
   ],
   "source": [
    "data = df_bin.groupby(by=['product_id']).sum()\n",
    "data = data[['is_applied']]\n",
    "data = data.reset_index().rename(columns={\"index\": \"id\"})\n",
    "\n",
    "data = make_bin(data, 'is_applied', n=5)"
   ]
  },
  {
   "cell_type": "code",
   "execution_count": null,
   "metadata": {
    "id": "0J3S65C4R4i6"
   },
   "outputs": [],
   "source": [
    "type_0 = data[data['is_applied_bin']==0]['product_id'].tolist()\n",
    "type_1 = data[data['is_applied_bin']==1]['product_id'].tolist()\n",
    "type_2 = data[data['is_applied_bin']==2]['product_id'].tolist()\n",
    "type_3 = data[data['is_applied_bin']==3]['product_id'].tolist()\n",
    "type_4 = data[data['is_applied_bin']==4]['product_id'].tolist()"
   ]
  },
  {
   "cell_type": "code",
   "execution_count": null,
   "metadata": {
    "colab": {
     "base_uri": "https://localhost:8080/"
    },
    "id": "f4IDAhFqZh_E",
    "outputId": "9bc6c6e2-4d4f-4163-b52b-f50ea561fdcc"
   },
   "outputs": [
    {
     "name": "stderr",
     "output_type": "stream",
     "text": [
      "/usr/local/lib/python3.7/dist-packages/ipykernel_launcher.py:1: SettingWithCopyWarning: \n",
      "A value is trying to be set on a copy of a slice from a DataFrame.\n",
      "Try using .loc[row_indexer,col_indexer] = value instead\n",
      "\n",
      "See the caveats in the documentation: https://pandas.pydata.org/pandas-docs/stable/user_guide/indexing.html#returning-a-view-versus-a-copy\n",
      "  \"\"\"Entry point for launching an IPython kernel.\n",
      "/usr/local/lib/python3.7/dist-packages/ipykernel_launcher.py:2: SettingWithCopyWarning: \n",
      "A value is trying to be set on a copy of a slice from a DataFrame.\n",
      "Try using .loc[row_indexer,col_indexer] = value instead\n",
      "\n",
      "See the caveats in the documentation: https://pandas.pydata.org/pandas-docs/stable/user_guide/indexing.html#returning-a-view-versus-a-copy\n",
      "  \n",
      "/usr/local/lib/python3.7/dist-packages/ipykernel_launcher.py:3: SettingWithCopyWarning: \n",
      "A value is trying to be set on a copy of a slice from a DataFrame.\n",
      "Try using .loc[row_indexer,col_indexer] = value instead\n",
      "\n",
      "See the caveats in the documentation: https://pandas.pydata.org/pandas-docs/stable/user_guide/indexing.html#returning-a-view-versus-a-copy\n",
      "  This is separate from the ipykernel package so we can avoid doing imports until\n",
      "/usr/local/lib/python3.7/dist-packages/ipykernel_launcher.py:4: SettingWithCopyWarning: \n",
      "A value is trying to be set on a copy of a slice from a DataFrame.\n",
      "Try using .loc[row_indexer,col_indexer] = value instead\n",
      "\n",
      "See the caveats in the documentation: https://pandas.pydata.org/pandas-docs/stable/user_guide/indexing.html#returning-a-view-versus-a-copy\n",
      "  after removing the cwd from sys.path.\n",
      "/usr/local/lib/python3.7/dist-packages/ipykernel_launcher.py:5: SettingWithCopyWarning: \n",
      "A value is trying to be set on a copy of a slice from a DataFrame.\n",
      "Try using .loc[row_indexer,col_indexer] = value instead\n",
      "\n",
      "See the caveats in the documentation: https://pandas.pydata.org/pandas-docs/stable/user_guide/indexing.html#returning-a-view-versus-a-copy\n",
      "  \"\"\"\n",
      "/usr/local/lib/python3.7/dist-packages/ipykernel_launcher.py:6: SettingWithCopyWarning: \n",
      "A value is trying to be set on a copy of a slice from a DataFrame.\n",
      "Try using .loc[row_indexer,col_indexer] = value instead\n",
      "\n",
      "See the caveats in the documentation: https://pandas.pydata.org/pandas-docs/stable/user_guide/indexing.html#returning-a-view-versus-a-copy\n",
      "  \n"
     ]
    }
   ],
   "source": [
    "df['product_bin'] = len(df) * [0]\n",
    "df['product_bin'] = np.where(df['product_id'].isin(type_0), 1, df['product_bin'])\n",
    "df['product_bin'] = np.where(df['product_id'].isin(type_1), 2, df['product_bin'])\n",
    "df['product_bin'] = np.where(df['product_id'].isin(type_2), 3, df['product_bin'])\n",
    "df['product_bin'] = np.where(df['product_id'].isin(type_3), 4, df['product_bin'])\n",
    "df['product_bin'] = np.where(df['product_id'].isin(type_4), 5, df['product_bin'])"
   ]
  },
  {
   "cell_type": "code",
   "execution_count": null,
   "metadata": {
    "colab": {
     "base_uri": "https://localhost:8080/"
    },
    "id": "6LjmP626aJd8",
    "outputId": "9c4379ae-8671-4a82-ca19-ae5fd54e9581"
   },
   "outputs": [
    {
     "name": "stdout",
     "output_type": "stream",
     "text": [
      "0     0\n",
      "1     1\n",
      "2     1\n",
      "3     2\n",
      "4     1\n",
      "     ..\n",
      "57    1\n",
      "58    1\n",
      "59    0\n",
      "60    2\n",
      "61    1\n",
      "Name: is_applied_bin, Length: 62, dtype: int64 \n",
      "\n",
      "\n"
     ]
    }
   ],
   "source": [
    "data = df_bin.groupby(by=['bank_id']).sum()\n",
    "data = data[['is_applied']]\n",
    "data = data.reset_index().rename(columns={\"index\": \"id\"})\n",
    "\n",
    "data = make_bin(data, 'is_applied', n=5)"
   ]
  },
  {
   "cell_type": "code",
   "execution_count": null,
   "metadata": {
    "id": "L43pZ5J-aJd9"
   },
   "outputs": [],
   "source": [
    "type_0 = data[data['is_applied_bin']==0]['bank_id'].tolist()\n",
    "type_1 = data[data['is_applied_bin']==1]['bank_id'].tolist()\n",
    "type_2 = data[data['is_applied_bin']==2]['bank_id'].tolist()\n",
    "type_3 = data[data['is_applied_bin']==3]['bank_id'].tolist()\n",
    "type_4 = data[data['is_applied_bin']==4]['bank_id'].tolist()"
   ]
  },
  {
   "cell_type": "code",
   "execution_count": null,
   "metadata": {
    "colab": {
     "base_uri": "https://localhost:8080/"
    },
    "id": "EV5QoDPTaJd-",
    "outputId": "663ede2b-7d66-41f6-f9a4-ffcf25be4959"
   },
   "outputs": [
    {
     "name": "stderr",
     "output_type": "stream",
     "text": [
      "/usr/local/lib/python3.7/dist-packages/ipykernel_launcher.py:1: SettingWithCopyWarning: \n",
      "A value is trying to be set on a copy of a slice from a DataFrame.\n",
      "Try using .loc[row_indexer,col_indexer] = value instead\n",
      "\n",
      "See the caveats in the documentation: https://pandas.pydata.org/pandas-docs/stable/user_guide/indexing.html#returning-a-view-versus-a-copy\n",
      "  \"\"\"Entry point for launching an IPython kernel.\n",
      "/usr/local/lib/python3.7/dist-packages/ipykernel_launcher.py:2: SettingWithCopyWarning: \n",
      "A value is trying to be set on a copy of a slice from a DataFrame.\n",
      "Try using .loc[row_indexer,col_indexer] = value instead\n",
      "\n",
      "See the caveats in the documentation: https://pandas.pydata.org/pandas-docs/stable/user_guide/indexing.html#returning-a-view-versus-a-copy\n",
      "  \n",
      "/usr/local/lib/python3.7/dist-packages/ipykernel_launcher.py:3: SettingWithCopyWarning: \n",
      "A value is trying to be set on a copy of a slice from a DataFrame.\n",
      "Try using .loc[row_indexer,col_indexer] = value instead\n",
      "\n",
      "See the caveats in the documentation: https://pandas.pydata.org/pandas-docs/stable/user_guide/indexing.html#returning-a-view-versus-a-copy\n",
      "  This is separate from the ipykernel package so we can avoid doing imports until\n",
      "/usr/local/lib/python3.7/dist-packages/ipykernel_launcher.py:4: SettingWithCopyWarning: \n",
      "A value is trying to be set on a copy of a slice from a DataFrame.\n",
      "Try using .loc[row_indexer,col_indexer] = value instead\n",
      "\n",
      "See the caveats in the documentation: https://pandas.pydata.org/pandas-docs/stable/user_guide/indexing.html#returning-a-view-versus-a-copy\n",
      "  after removing the cwd from sys.path.\n",
      "/usr/local/lib/python3.7/dist-packages/ipykernel_launcher.py:5: SettingWithCopyWarning: \n",
      "A value is trying to be set on a copy of a slice from a DataFrame.\n",
      "Try using .loc[row_indexer,col_indexer] = value instead\n",
      "\n",
      "See the caveats in the documentation: https://pandas.pydata.org/pandas-docs/stable/user_guide/indexing.html#returning-a-view-versus-a-copy\n",
      "  \"\"\"\n",
      "/usr/local/lib/python3.7/dist-packages/ipykernel_launcher.py:6: SettingWithCopyWarning: \n",
      "A value is trying to be set on a copy of a slice from a DataFrame.\n",
      "Try using .loc[row_indexer,col_indexer] = value instead\n",
      "\n",
      "See the caveats in the documentation: https://pandas.pydata.org/pandas-docs/stable/user_guide/indexing.html#returning-a-view-versus-a-copy\n",
      "  \n"
     ]
    }
   ],
   "source": [
    "df['bank_bin'] = len(df) * [0]\n",
    "df['bank_bin'] = np.where(df['bank_id'].isin(type_0), 1, df['bank_bin'])\n",
    "df['bank_bin'] = np.where(df['bank_id'].isin(type_1), 2, df['bank_bin'])\n",
    "df['bank_bin'] = np.where(df['bank_id'].isin(type_2), 3, df['bank_bin'])\n",
    "df['bank_bin'] = np.where(df['bank_id'].isin(type_3), 4, df['bank_bin'])\n",
    "df['bank_bin'] = np.where(df['bank_id'].isin(type_4), 5, df['bank_bin'])"
   ]
  },
  {
   "cell_type": "markdown",
   "metadata": {
    "id": "mWCdAPszMDCj"
   },
   "source": [
    "# 파생변수\n",
    "\n",
    "- 기대금액이 충분한지(is_enough)\n",
    "- 이자액은 얼마인지(interest)\n",
    "- 신용등급(credit_grade)\n",
    "- 은행 상품 몇 개 봤는지(viewed_product)\n",
    "- 신용등급 바뀌는 사람인지(credit_changed)"
   ]
  },
  {
   "cell_type": "code",
   "execution_count": null,
   "metadata": {
    "colab": {
     "base_uri": "https://localhost:8080/"
    },
    "id": "YPlsEWhrx5TN",
    "outputId": "3921b8e0-27ee-4bd6-f253-acd3cd688c09"
   },
   "outputs": [
    {
     "name": "stderr",
     "output_type": "stream",
     "text": [
      "/usr/local/lib/python3.7/dist-packages/ipykernel_launcher.py:1: SettingWithCopyWarning: \n",
      "A value is trying to be set on a copy of a slice from a DataFrame.\n",
      "Try using .loc[row_indexer,col_indexer] = value instead\n",
      "\n",
      "See the caveats in the documentation: https://pandas.pydata.org/pandas-docs/stable/user_guide/indexing.html#returning-a-view-versus-a-copy\n",
      "  \"\"\"Entry point for launching an IPython kernel.\n",
      "/usr/local/lib/python3.7/dist-packages/pandas/core/indexing.py:1817: SettingWithCopyWarning: \n",
      "A value is trying to be set on a copy of a slice from a DataFrame.\n",
      "Try using .loc[row_indexer,col_indexer] = value instead\n",
      "\n",
      "See the caveats in the documentation: https://pandas.pydata.org/pandas-docs/stable/user_guide/indexing.html#returning-a-view-versus-a-copy\n",
      "  self._setitem_single_column(loc, value, pi)\n"
     ]
    }
   ],
   "source": [
    "df['is_enough'] = (df['desired_amount']-df['loan_limit'])/df['loan_limit'] #inf 가 4969개\n",
    "df.loc[df['loan_limit']==0, 'is_enough'] = -1"
   ]
  },
  {
   "cell_type": "code",
   "execution_count": null,
   "metadata": {
    "colab": {
     "base_uri": "https://localhost:8080/"
    },
    "id": "pEaeitWGyH9X",
    "outputId": "8641a9ec-fced-4e86-e95e-cf62c8cd92bf"
   },
   "outputs": [
    {
     "name": "stderr",
     "output_type": "stream",
     "text": [
      "/usr/local/lib/python3.7/dist-packages/ipykernel_launcher.py:1: SettingWithCopyWarning: \n",
      "A value is trying to be set on a copy of a slice from a DataFrame.\n",
      "Try using .loc[row_indexer,col_indexer] = value instead\n",
      "\n",
      "See the caveats in the documentation: https://pandas.pydata.org/pandas-docs/stable/user_guide/indexing.html#returning-a-view-versus-a-copy\n",
      "  \"\"\"Entry point for launching an IPython kernel.\n"
     ]
    }
   ],
   "source": [
    "df['interest'] = df['desired_amount'] * df['loan_rate']"
   ]
  },
  {
   "cell_type": "code",
   "execution_count": null,
   "metadata": {
    "colab": {
     "base_uri": "https://localhost:8080/"
    },
    "id": "8sn0-vs1MDCr",
    "outputId": "d99b845f-12c9-4066-831f-3ceee8d5091e"
   },
   "outputs": [
    {
     "name": "stderr",
     "output_type": "stream",
     "text": [
      "/usr/local/lib/python3.7/dist-packages/ipykernel_launcher.py:2: SettingWithCopyWarning: \n",
      "A value is trying to be set on a copy of a slice from a DataFrame.\n",
      "Try using .loc[row_indexer,col_indexer] = value instead\n",
      "\n",
      "See the caveats in the documentation: https://pandas.pydata.org/pandas-docs/stable/user_guide/indexing.html#returning-a-view-versus-a-copy\n",
      "  \n"
     ]
    }
   ],
   "source": [
    "temp = df['application_id'].value_counts()\n",
    "df['viewd_product'] = df['application_id'].map(temp) "
   ]
  },
  {
   "cell_type": "code",
   "execution_count": null,
   "metadata": {
    "colab": {
     "base_uri": "https://localhost:8080/"
    },
    "id": "n7A1P3HWJGXI",
    "outputId": "5f365727-9ed2-4acc-ce9d-b5af7043df67"
   },
   "outputs": [
    {
     "name": "stderr",
     "output_type": "stream",
     "text": [
      "/usr/local/lib/python3.7/dist-packages/ipykernel_launcher.py:3: SettingWithCopyWarning: \n",
      "A value is trying to be set on a copy of a slice from a DataFrame.\n",
      "Try using .loc[row_indexer,col_indexer] = value instead\n",
      "\n",
      "See the caveats in the documentation: https://pandas.pydata.org/pandas-docs/stable/user_guide/indexing.html#returning-a-view-versus-a-copy\n",
      "  This is separate from the ipykernel package so we can avoid doing imports until\n",
      "/usr/local/lib/python3.7/dist-packages/ipykernel_launcher.py:6: SettingWithCopyWarning: \n",
      "A value is trying to be set on a copy of a slice from a DataFrame.\n",
      "Try using .loc[row_indexer,col_indexer] = value instead\n",
      "\n",
      "See the caveats in the documentation: https://pandas.pydata.org/pandas-docs/stable/user_guide/indexing.html#returning-a-view-versus-a-copy\n",
      "  \n",
      "/usr/local/lib/python3.7/dist-packages/pandas/core/frame.py:5244: SettingWithCopyWarning: \n",
      "A value is trying to be set on a copy of a slice from a DataFrame\n",
      "\n",
      "See the caveats in the documentation: https://pandas.pydata.org/pandas-docs/stable/user_guide/indexing.html#returning-a-view-versus-a-copy\n",
      "  method=method,\n"
     ]
    }
   ],
   "source": [
    "#각 application_id 마다 loan_limit 기준으로 순위\n",
    "temp = df.groupby('application_id')['loan_limit'].rank(method='min', ascending=False)\n",
    "df['limit_order'] = temp\n",
    "\n",
    "# 지금 받는 월급으로 몇 년을 갚아야 할지 / 근데 이건 중요 변수 아니긴 했음\n",
    "df['loan_year'] = df['desired_amount']/df['yearly_income']\n",
    "df.replace([np.inf, -np.inf],100, inplace=True)"
   ]
  },
  {
   "cell_type": "code",
   "execution_count": null,
   "metadata": {
    "colab": {
     "base_uri": "https://localhost:8080/"
    },
    "id": "4rFBysAeKuvO",
    "outputId": "3112d702-a8c9-4f02-c096-8fb02f634c96"
   },
   "outputs": [
    {
     "name": "stderr",
     "output_type": "stream",
     "text": [
      "/usr/local/lib/python3.7/dist-packages/ipykernel_launcher.py:2: SettingWithCopyWarning: \n",
      "A value is trying to be set on a copy of a slice from a DataFrame.\n",
      "Try using .loc[row_indexer,col_indexer] = value instead\n",
      "\n",
      "See the caveats in the documentation: https://pandas.pydata.org/pandas-docs/stable/user_guide/indexing.html#returning-a-view-versus-a-copy\n",
      "  \n",
      "/usr/local/lib/python3.7/dist-packages/ipykernel_launcher.py:6: SettingWithCopyWarning: \n",
      "A value is trying to be set on a copy of a slice from a DataFrame.\n",
      "Try using .loc[row_indexer,col_indexer] = value instead\n",
      "\n",
      "See the caveats in the documentation: https://pandas.pydata.org/pandas-docs/stable/user_guide/indexing.html#returning-a-view-versus-a-copy\n",
      "  \n"
     ]
    }
   ],
   "source": [
    "#희망금액이 연소득보다 많은가 ? => over_desire 욕심쟁이\n",
    "df['over_desire'] = (df['desired_amount']-df['yearly_income'])/df['yearly_income'] #inf인거 한 6000개 희망금액이랑 연소득 비교해서 희망금액이 높으면 over_desrie다 \n",
    "df.loc[df['yearly_income']==0, 'over_desire'] = 1\n",
    "\n",
    "#희망금액이 기존의 대출금액보다 많은가 ?  => over_desrie2\n",
    "df['over_desire2'] = (df['desired_amount']-df['existing_loan_amt'])/df['existing_loan_amt'] #inf인거 한 40000개\n",
    "df.loc[df['existing_loan_amt']==0, 'over_desire2'] = 1"
   ]
  },
  {
   "cell_type": "code",
   "execution_count": null,
   "metadata": {
    "colab": {
     "base_uri": "https://localhost:8080/"
    },
    "id": "EziJZxLBK21I",
    "outputId": "2d78ad85-4984-44b9-dab7-f79a414aecf3"
   },
   "outputs": [
    {
     "name": "stderr",
     "output_type": "stream",
     "text": [
      "/usr/local/lib/python3.7/dist-packages/ipykernel_launcher.py:8: SettingWithCopyWarning: \n",
      "A value is trying to be set on a copy of a slice from a DataFrame.\n",
      "Try using .loc[row_indexer,col_indexer] = value instead\n",
      "\n",
      "See the caveats in the documentation: https://pandas.pydata.org/pandas-docs/stable/user_guide/indexing.html#returning-a-view-versus-a-copy\n",
      "  \n"
     ]
    }
   ],
   "source": [
    "#기존대출경험 있는 사람 => experience\n",
    "def experience(x):\n",
    " if x>=1 : \n",
    "   return 1\n",
    " else:\n",
    "   return 0\n",
    "\n",
    "df['experience'] = df['existing_loan_cnt'].apply(experience) "
   ]
  },
  {
   "cell_type": "markdown",
   "metadata": {
    "id": "-ZcQc7L7CCOa"
   },
   "source": [
    "## 혜림"
   ]
  },
  {
   "cell_type": "code",
   "execution_count": null,
   "metadata": {
    "colab": {
     "base_uri": "https://localhost:8080/"
    },
    "id": "BIFLQAVB-Z9O",
    "outputId": "a79eca41-d2a9-4900-d0fa-167b78c3c355"
   },
   "outputs": [
    {
     "name": "stderr",
     "output_type": "stream",
     "text": [
      "/usr/local/lib/python3.7/dist-packages/ipykernel_launcher.py:3: SettingWithCopyWarning: \n",
      "A value is trying to be set on a copy of a slice from a DataFrame.\n",
      "Try using .loc[row_indexer,col_indexer] = value instead\n",
      "\n",
      "See the caveats in the documentation: https://pandas.pydata.org/pandas-docs/stable/user_guide/indexing.html#returning-a-view-versus-a-copy\n",
      "  This is separate from the ipykernel package so we can avoid doing imports until\n",
      "/usr/local/lib/python3.7/dist-packages/ipykernel_launcher.py:4: SettingWithCopyWarning: \n",
      "A value is trying to be set on a copy of a slice from a DataFrame.\n",
      "Try using .loc[row_indexer,col_indexer] = value instead\n",
      "\n",
      "See the caveats in the documentation: https://pandas.pydata.org/pandas-docs/stable/user_guide/indexing.html#returning-a-view-versus-a-copy\n",
      "  after removing the cwd from sys.path.\n"
     ]
    }
   ],
   "source": [
    "data1 = pd.read_csv(\"/content/drive/Shareddrives/빅콘테스트/혜림/다르게 시작해보는.../복수통계_07172540.csv\")\n",
    "\n",
    "df['loanapply_insert_time'] = pd.to_datetime(df['loanapply_insert_time'])\n",
    "df['loanapply_insert_time']  = df['loanapply_insert_time'].values.astype('datetime64[D]')"
   ]
  },
  {
   "cell_type": "code",
   "execution_count": null,
   "metadata": {
    "id": "oyDNxknl-qfO"
   },
   "outputs": [],
   "source": [
    "data1['변환'] = pd.to_datetime(data1['변환'])\n",
    "data1['변환'] = data1['변환'].values.astype('datetime64[D]')\n",
    "data1['변환']\n",
    "data1 = data1.fillna(method='ffill')"
   ]
  },
  {
   "cell_type": "code",
   "execution_count": null,
   "metadata": {
    "id": "YXDtXVZq-ryY"
   },
   "outputs": [],
   "source": [
    "data1.columns = ['loanapply_insert_time','news','interest_rate']\n",
    "df = pd.merge(df, data1[['loanapply_insert_time','news']],on='loanapply_insert_time', how='left')"
   ]
  },
  {
   "cell_type": "code",
   "execution_count": null,
   "metadata": {
    "id": "lah6LnrE-tcL"
   },
   "outputs": [],
   "source": [
    "df = df.sort_values(by=['loanapply_insert_time'])\n",
    "df['news'] = df['news'].fillna(method='bfill')"
   ]
  },
  {
   "cell_type": "markdown",
   "metadata": {
    "id": "2B_M6uWfJ7Eg"
   },
   "source": [
    "## 유민"
   ]
  },
  {
   "cell_type": "code",
   "execution_count": null,
   "metadata": {
    "id": "qrhl6OsTJ9dj"
   },
   "outputs": [],
   "source": [
    "#상환능력\n",
    "df['ablilty'] = df['existing_loan_amt']/df['yearly_income']*100\n",
    "df.loc[df['yearly_income']==0, 'ablilty'] = 0\n",
    "\n",
    "#총부채원리금상환비율(DSR) : 원리금 나누기 연소득\n",
    "df['dsr'] = df['loan_limit']/df['yearly_income']*100\n",
    "df.loc[df['yearly_income']==0, 'dsr'] = 0"
   ]
  },
  {
   "cell_type": "markdown",
   "metadata": {
    "id": "uIGsJlIJpxiY"
   },
   "source": [
    "# 저장"
   ]
  },
  {
   "cell_type": "code",
   "execution_count": null,
   "metadata": {
    "id": "8Q6g0K5XlcG2"
   },
   "outputs": [],
   "source": [
    "#'personal_rehabilitation_yn',personal_rehabilitation_complete_yn','enter_m', 'employee_y', 'employee_m''month', 'day' 미리 삭제\n",
    "df = df[['application_id', 'loanapply_insert_time', 'bank_id', 'product_id',\n",
    "       'loan_limit', 'loan_rate', 'is_applied', 'user_id', 'gender',\n",
    "       'credit_score', 'yearly_income', 'income_type', 'employment_type',\n",
    "       'houseown_type', 'desired_amount', 'purpose', 'existing_loan_cnt',\n",
    "       'existing_loan_amt', 'age', 'foreign', 'enter_y', 'employee_d', 'hour',\n",
    "       'weekday', 'week_num', 'personal_rehabilitation_type',\n",
    "       'amount_income_rate', 'week_pop', 'product_bin', 'bank_bin',\n",
    "       'is_enough', 'interest', 'credit_grade', 'viewd_product', 'appli_order',\n",
    "       'limit_order', 'loan_year', 'over_desire', 'over_desire2', 'news',\n",
    "       'ablilty', 'dsr', 'income_changed']]"
   ]
  },
  {
   "cell_type": "code",
   "execution_count": null,
   "metadata": {
    "id": "6ZW3tGv0pdnC"
   },
   "outputs": [],
   "source": [
    "df.to_csv(\"/content/drive/Shareddrives/빅콘테스트/혜림/최후/preprocessed_test.csv\", index=False)"
   ]
  }
 ],
 "metadata": {
  "colab": {
   "collapsed_sections": [
    "N1IUWqNuxx-Y",
    "fP3nk7Lyyc-J",
    "hxEceJIW6xdm",
    "YobCYHnX6z5I",
    "J8I4chUeF66z",
    "o_DJUwt4lRvT",
    "55wcLJPeYNPd",
    "luMsw2ANdEBf",
    "bHXyArFqsFcY",
    "-ZcQc7L7CCOa",
    "2B_M6uWfJ7Eg"
   ],
   "provenance": [],
   "toc_visible": true
  },
  "kernelspec": {
   "display_name": "Python 3",
   "language": "python",
   "name": "python3"
  },
  "language_info": {
   "codemirror_mode": {
    "name": "ipython",
    "version": 3
   },
   "file_extension": ".py",
   "mimetype": "text/x-python",
   "name": "python",
   "nbconvert_exporter": "python",
   "pygments_lexer": "ipython3",
   "version": "3.8.5"
  }
 },
 "nbformat": 4,
 "nbformat_minor": 1
}
