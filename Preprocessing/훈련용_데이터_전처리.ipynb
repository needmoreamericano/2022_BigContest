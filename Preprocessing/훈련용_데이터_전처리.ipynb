{
 "cells": [
  {
   "cell_type": "markdown",
   "metadata": {
    "id": "464D_YNBctcc"
   },
   "source": [
    "- 실 유저를 찾아내서 모델링"
   ]
  },
  {
   "cell_type": "markdown",
   "metadata": {
    "id": "N1IUWqNuxx-Y"
   },
   "source": [
    "# 라이브러리 설치"
   ]
  },
  {
   "cell_type": "code",
   "execution_count": null,
   "metadata": {
    "colab": {
     "base_uri": "https://localhost:8080/"
    },
    "id": "3VJ0hpSgyYJc",
    "outputId": "712ab380-5e87-45fb-fa1d-96426f7bc4f2"
   },
   "outputs": [
    {
     "name": "stdout",
     "output_type": "stream",
     "text": [
      "Drive already mounted at /content/drive; to attempt to forcibly remount, call drive.mount(\"/content/drive\", force_remount=True).\n"
     ]
    }
   ],
   "source": [
    "from google.colab import drive\n",
    "drive.mount('/content/drive')"
   ]
  },
  {
   "cell_type": "markdown",
   "metadata": {
    "id": "fP3nk7Lyyc-J"
   },
   "source": [
    "# data 리키지를 막기 위한 real_test 분리\n"
   ]
  },
  {
   "cell_type": "code",
   "execution_count": null,
   "metadata": {
    "id": "NxhcqMst0h4M"
   },
   "outputs": [],
   "source": [
    "import pandas as pd\n",
    "\n",
    "user = pd.read_csv(\"/content/drive/Shareddrives/빅콘테스트/데이터/2022빅콘테스트_데이터분석리그_데이터분석분야_퓨처스부문_데이터셋_220908.zip (Unzipped Files)/user_spec.csv\")\n",
    "log = pd.read_csv(\"/content/drive/Shareddrives/빅콘테스트/데이터/2022빅콘테스트_데이터분석리그_데이터분석분야_퓨처스부문_데이터셋_220908.zip (Unzipped Files)/log_data.csv\")\n",
    "result = pd.read_csv(\"/content/drive/Shareddrives/빅콘테스트/데이터/2022빅콘테스트_데이터분석리그_데이터분석분야_퓨처스부문_데이터셋_220908.zip (Unzipped Files)/loan_result.csv\")"
   ]
  },
  {
   "cell_type": "code",
   "execution_count": null,
   "metadata": {
    "id": "BB1yIq4y7sL_"
   },
   "outputs": [],
   "source": [
    "a = list(result.loc[result['is_applied'].isna(),'application_id'].unique())"
   ]
  },
  {
   "cell_type": "code",
   "execution_count": null,
   "metadata": {
    "id": "b6JH0uNp79OI"
   },
   "outputs": [],
   "source": [
    "real_test_user = user.loc[user['application_id'].isin(a),]\n",
    "real_test_result = result.loc[result['is_applied'].isna(),]"
   ]
  },
  {
   "cell_type": "code",
   "execution_count": null,
   "metadata": {
    "id": "1drNP5gH79SV"
   },
   "outputs": [],
   "source": [
    "user = user.loc[~(user['application_id'].isin(a))]\n",
    "result = result[result['is_applied'].notna()]"
   ]
  },
  {
   "cell_type": "markdown",
   "metadata": {
    "id": "_fE-IYPbTVKV"
   },
   "source": [
    "# user 전처리"
   ]
  },
  {
   "cell_type": "markdown",
   "metadata": {
    "id": "hxEceJIW6xdm"
   },
   "source": [
    "## 결측치"
   ]
  },
  {
   "cell_type": "code",
   "execution_count": null,
   "metadata": {
    "colab": {
     "base_uri": "https://localhost:8080/"
    },
    "id": "Hlu0x_Wr3OsJ",
    "outputId": "7fa8f836-5d4f-4702-a1db-692f4b750823"
   },
   "outputs": [
    {
     "data": {
      "text/plain": [
       "application_id                               0\n",
       "user_id                                      0\n",
       "birth_year                               10358\n",
       "gender                                   10358\n",
       "insert_time                                  0\n",
       "credit_score                                 0\n",
       "yearly_income                               89\n",
       "income_type                                 85\n",
       "company_enter_month                     147858\n",
       "employment_type                             85\n",
       "houseown_type                               85\n",
       "desired_amount                              85\n",
       "purpose                                     85\n",
       "personal_rehabilitation_yn              586351\n",
       "personal_rehabilitation_complete_yn    1015579\n",
       "existing_loan_cnt                       168034\n",
       "existing_loan_amt                       262852\n",
       "dtype: int64"
      ]
     },
     "execution_count": 6,
     "metadata": {},
     "output_type": "execute_result"
    }
   ],
   "source": [
    "user['credit_score'] = user['credit_score'].fillna(value=0)\n",
    "user.isna().sum()"
   ]
  },
  {
   "cell_type": "code",
   "execution_count": null,
   "metadata": {
    "id": "GRvF9EbP1M3Q"
   },
   "outputs": [],
   "source": [
    "#birth year nan 및 gender 관련해서 : 초기 가입자\n",
    "user['age'] = 2022 - user['birth_year'] + 1\n",
    "user['age'] = user['age'].fillna(value=user['age'].median())"
   ]
  },
  {
   "cell_type": "code",
   "execution_count": null,
   "metadata": {
    "id": "4FMmq9F4-DoX"
   },
   "outputs": [],
   "source": [
    "user.drop('birth_year', axis=1, inplace=True)"
   ]
  },
  {
   "cell_type": "code",
   "execution_count": null,
   "metadata": {
    "id": "-lZvoZ1d5IWn"
   },
   "outputs": [],
   "source": [
    "user['personal_rehabilitation_yn'] = user['personal_rehabilitation_yn'].fillna(value=0)\n",
    "user['personal_rehabilitation_complete_yn'] = user['personal_rehabilitation_complete_yn'].fillna(value=0)"
   ]
  },
  {
   "cell_type": "code",
   "execution_count": null,
   "metadata": {
    "id": "WGNK7B1B5Trp"
   },
   "outputs": [],
   "source": [
    "user['existing_loan_amt'] = user['existing_loan_amt'].fillna(value=0)\n",
    "user['existing_loan_cnt'] = user['existing_loan_cnt'].fillna(value=0)"
   ]
  },
  {
   "cell_type": "code",
   "execution_count": null,
   "metadata": {
    "colab": {
     "base_uri": "https://localhost:8080/"
    },
    "id": "px_YsaiwXRAQ",
    "outputId": "ee37ab02-1802-41dd-f398-b2598e99c582"
   },
   "outputs": [
    {
     "name": "stderr",
     "output_type": "stream",
     "text": [
      "100%|██████████| 89/89 [00:00<00:00, 139.34it/s]\n"
     ]
    }
   ],
   "source": [
    "from tqdm import tqdm \n",
    "\n",
    "columns = ['yearly_income','income_type','employment_type','houseown_type','desired_amount','purpose']\n",
    "a = user.loc[user['yearly_income'].isna()]\n",
    "for i, row in tqdm(a.iterrows(), total = a.shape[0]):\n",
    "  b = user.loc[user['user_id']==row['user_id']]\n",
    "  if len(b) == 1: pass\n",
    "  else:\n",
    "    for column in columns:\n",
    "      try:\n",
    "        user.at[i,column] = b[column].mode().mean()\n",
    "      except:\n",
    "        user.at[i,column] = b[column].mode()[0]"
   ]
  },
  {
   "cell_type": "code",
   "execution_count": null,
   "metadata": {
    "colab": {
     "base_uri": "https://localhost:8080/"
    },
    "id": "mwVG0_QybnuT",
    "outputId": "aff6175c-1a6b-4a71-f315-e2afca483961"
   },
   "outputs": [
    {
     "name": "stderr",
     "output_type": "stream",
     "text": [
      "100%|██████████| 10358/10358 [00:35<00:00, 291.61it/s]\n"
     ]
    }
   ],
   "source": [
    "from tqdm import tqdm \n",
    "\n",
    "column = 'gender'\n",
    "a = user.loc[user['gender'].isna()]\n",
    "for i, row in tqdm(a.iterrows(), total = a.shape[0]):\n",
    "  b = user.loc[user['user_id']==row['user_id']]\n",
    "  if len(b) == 1: pass\n",
    "  else:\n",
    "    try:\n",
    "      user.at[i,column] = b[column].mode()\n",
    "    except:\n",
    "      pass\n",
    "\n",
    "\n"
   ]
  },
  {
   "cell_type": "code",
   "execution_count": null,
   "metadata": {
    "id": "tmX8oKvR_g3f"
   },
   "outputs": [],
   "source": [
    "user['yearly_income'].fillna(user['yearly_income'].median(), inplace=True)\n",
    "user['income_type'].fillna(-1, inplace=True)\n",
    "user['employment_type'].fillna(-1, inplace=True)\n",
    "user['houseown_type'].fillna(-1, inplace=True)\n",
    "user['desired_amount'].fillna(user['desired_amount'].median(), inplace=True)\n",
    "user['purpose'].fillna(-1, inplace=True)"
   ]
  },
  {
   "cell_type": "code",
   "execution_count": null,
   "metadata": {
    "id": "IAog37AyT9yv"
   },
   "outputs": [],
   "source": [
    "# desired_amount를 높은 그룹 낮은 그룹 해서 각각 그룹에서 7:3 해서 남성: 여성\n",
    "user.loc[user[(user['existing_loan_amt']>30000000)&(user['gender'].isna())][:1157].index, 'gender'] = 1\n",
    "user.loc[user[(user['existing_loan_amt']>30000000)&(user['gender'].isna())].index, 'gender'] = 0\n",
    "\n",
    "user.loc[user[(user['existing_loan_amt']<=30000000)&(user['gender'].isna())][:4252].index, 'gender']=1\n",
    "user.loc[user[(user['existing_loan_amt']<=30000000)&(user['gender'].isna())].index, 'gender']=0"
   ]
  },
  {
   "cell_type": "code",
   "execution_count": null,
   "metadata": {
    "colab": {
     "base_uri": "https://localhost:8080/"
    },
    "id": "CAbBfWKahyuO",
    "outputId": "d3b06691-e871-4e90-a9fd-504192f60be4"
   },
   "outputs": [
    {
     "data": {
      "text/plain": [
       "application_id                              0\n",
       "user_id                                     0\n",
       "gender                                      0\n",
       "insert_time                                 0\n",
       "credit_score                                0\n",
       "yearly_income                               0\n",
       "income_type                                 0\n",
       "company_enter_month                    147858\n",
       "employment_type                             0\n",
       "houseown_type                               0\n",
       "desired_amount                              0\n",
       "purpose                                     0\n",
       "personal_rehabilitation_yn                  0\n",
       "personal_rehabilitation_complete_yn         0\n",
       "existing_loan_cnt                           0\n",
       "existing_loan_amt                           0\n",
       "age                                         0\n",
       "dtype: int64"
      ]
     },
     "execution_count": 15,
     "metadata": {},
     "output_type": "execute_result"
    }
   ],
   "source": [
    "user.isna().sum()"
   ]
  },
  {
   "cell_type": "markdown",
   "metadata": {
    "id": "YobCYHnX6z5I"
   },
   "source": [
    "## 카테고리"
   ]
  },
  {
   "cell_type": "code",
   "execution_count": null,
   "metadata": {
    "id": "ZXo0O4iB8UWz"
   },
   "outputs": [],
   "source": [
    "user['foreign'] = [0] * len(user)\n",
    "user.loc[user['purpose'].isin(['LIVING ','SWITCHLOAN','BUSINESS','ETC','HOUSEDEPOSIT','BUYHOUSE','INVEST','BUYCAR']),'foreign'] = 1"
   ]
  },
  {
   "cell_type": "code",
   "execution_count": null,
   "metadata": {
    "colab": {
     "base_uri": "https://localhost:8080/"
    },
    "id": "_07hVbo99JEE",
    "outputId": "fa931f20-1fcc-4dad-8d06-17380f5778dd"
   },
   "outputs": [
    {
     "data": {
      "text/plain": [
       "생활비       738643\n",
       "대환대출      289720\n",
       "사업자금       51640\n",
       "기타         25243\n",
       "전월세보증금     22077\n",
       "주택구입       13608\n",
       "투자          9937\n",
       "자동차구입       3368\n",
       "-1            31\n",
       "Name: purpose, dtype: int64"
      ]
     },
     "execution_count": 17,
     "metadata": {},
     "output_type": "execute_result"
    }
   ],
   "source": [
    "user.loc[user['purpose']=='LIVING','purpose'] = '생활비'\n",
    "user.loc[user['purpose']=='SWITCHLOAN','purpose'] = '대환대출'\n",
    "user.loc[user['purpose']=='BUSINESS','purpose'] = '사업자금'\n",
    "user.loc[user['purpose']=='ETC','purpose'] = '기타'\n",
    "user.loc[user['purpose']=='HOUSEDEPOSIT','purpose'] = '전월세보증금'\n",
    "user.loc[user['purpose']=='BUYHOUSE','purpose'] = '주택구입'\n",
    "user.loc[user['purpose']=='INVEST','purpose'] = '투자'\n",
    "user.loc[user['purpose']=='BUYCAR','purpose'] = '자동차구입'\n",
    "user['purpose'].value_counts()"
   ]
  },
  {
   "cell_type": "markdown",
   "metadata": {
    "id": "S0YW0XG-E5gd"
   },
   "source": [
    "## 추가 처리및 파생변수 \n",
    "- company_enter_month 결측치 \n",
    "- 개인회생자 3 카테고리화\n",
    "- 연수입/ 기대수입"
   ]
  },
  {
   "cell_type": "code",
   "execution_count": null,
   "metadata": {
    "id": "9tjrQ-3jjCkO"
   },
   "outputs": [],
   "source": [
    "company_enter_month = '000000'\n",
    "user.fillna({'company_enter_month':company_enter_month},inplace=True )"
   ]
  },
  {
   "cell_type": "code",
   "execution_count": null,
   "metadata": {
    "id": "ETb2prgBlcBP"
   },
   "outputs": [],
   "source": [
    "user['company_enter_month']= user['company_enter_month'].astype(str)\n",
    "\n",
    "user['enter_y'] = user['company_enter_month'].str[:4]  #입사 년\n",
    "user['enter_m'] = user['company_enter_month'].str[4:6] #입사 월\n",
    "user['enter_y'] = user['enter_y'].astype(int)\n",
    "user['enter_m'] = user['enter_m'].astype(int)"
   ]
  },
  {
   "cell_type": "code",
   "execution_count": null,
   "metadata": {
    "id": "7bd68t3JjEu3"
   },
   "outputs": [],
   "source": [
    "user['insert_time'] = pd.to_datetime(user['insert_time'])\n",
    "user['insert_time'] = user['insert_time'].dt.to_period(freq='D')\n",
    "user['insert_time']  = user['insert_time'].values.astype('datetime64[D]')"
   ]
  },
  {
   "cell_type": "code",
   "execution_count": null,
   "metadata": {
    "id": "Uptg1PvA31fH"
   },
   "outputs": [],
   "source": [
    "def f3(user2):\n",
    "    if (user2['enter_y'] != 0):\n",
    "      user2['company_enter_month']= user2['company_enter_month'][:4] + '-' + user2['company_enter_month'][4:6]  + '-'+ '01'\n",
    "      user2['company_enter_month'] = pd.to_datetime(user2['company_enter_month'])\n",
    "      diff = user2['insert_time'] - user2['company_enter_month']\n",
    "      val = diff.days\n",
    "    else:\n",
    "        val = 0\n",
    "    return val"
   ]
  },
  {
   "cell_type": "code",
   "execution_count": null,
   "metadata": {
    "id": "MxcRF34Y347h"
   },
   "outputs": [],
   "source": [
    "import numpy as np\n",
    "user['employee_d'] = user.apply(f3, axis=1)\n",
    "user['employee_d'] = np.abs(user['employee_d'].astype(int))  #음수로 맘대로 쓴 사람 2명 있어서 이건 그냥 절댓값 씌워버림"
   ]
  },
  {
   "cell_type": "code",
   "execution_count": null,
   "metadata": {
    "id": "aWa47b4o9zte"
   },
   "outputs": [],
   "source": [
    "user['employee_y'] = user['employee_d']//365  #근무년수\n",
    "user['employee_m'] = user['employee_d']//30  #근무개월수 "
   ]
  },
  {
   "cell_type": "code",
   "execution_count": null,
   "metadata": {
    "id": "QJnNTdQ5UJit"
   },
   "outputs": [],
   "source": [
    "user['month'] = user['insert_time'].dt.month #월\n",
    "user['day'] = user['insert_time'].dt.day #일\n",
    "user['hour'] = user['insert_time'].dt.hour #시\n",
    "user['weekday'] = user['insert_time'].dt.weekday # 요일숫자(0-월, 1-화) \n",
    "user['week_num'] = user['insert_time'].dt.isocalendar().week  #주차 이름"
   ]
  },
  {
   "cell_type": "code",
   "execution_count": null,
   "metadata": {
    "id": "5LjRVbQUljxM"
   },
   "outputs": [],
   "source": [
    "#아예 회생자가 아닌 경우\n",
    "user['personal_rehabilitation_type'] = 0\n",
    "#회생자&반환완료\n",
    "user.loc[(user['personal_rehabilitation_yn']==1) & (user['personal_rehabilitation_complete_yn']==1), 'personal_rehabilitation_type'] = 1\n",
    "#회생자&반환못함\n",
    "user.loc[(user['personal_rehabilitation_yn']==1) & (user['personal_rehabilitation_complete_yn']==0), 'personal_rehabilitation_type'] = 2"
   ]
  },
  {
   "cell_type": "code",
   "execution_count": null,
   "metadata": {
    "colab": {
     "base_uri": "https://localhost:8080/"
    },
    "id": "7Eh-nKF_orMZ",
    "outputId": "f38e9e2d-9f91-402f-a8c0-06e6182298e0"
   },
   "outputs": [
    {
     "data": {
      "text/plain": [
       "10000000.0"
      ]
     },
     "execution_count": 26,
     "metadata": {},
     "output_type": "execute_result"
    }
   ],
   "source": [
    "user['desired_amount'].median()"
   ]
  },
  {
   "cell_type": "code",
   "execution_count": null,
   "metadata": {
    "id": "wbxW7-1nmM1J"
   },
   "outputs": [],
   "source": [
    "#  연수입 / 기대금액 변수생성\n",
    "user.loc[user['desired_amount']==0, 'desired_amount'] = user['desired_amount'].median()\n",
    "user['amount_income_rate'] = user['yearly_income']/user['desired_amount']"
   ]
  },
  {
   "cell_type": "code",
   "execution_count": null,
   "metadata": {
    "id": "AJxSVeMekJ1p"
   },
   "outputs": [],
   "source": [
    "#user.to_csv(\"/content/drive/Shareddrives/빅콘테스트/혜림/preprocessed_user.csv\", index=False)"
   ]
  },
  {
   "cell_type": "markdown",
   "metadata": {
    "id": "Mi96vgz0-SgC"
   },
   "source": [
    "# result 전처리"
   ]
  },
  {
   "cell_type": "markdown",
   "metadata": {
    "id": "0F-ykuHITnE0"
   },
   "source": [
    "## 결측치"
   ]
  },
  {
   "cell_type": "code",
   "execution_count": null,
   "metadata": {
    "colab": {
     "base_uri": "https://localhost:8080/"
    },
    "id": "jHFbm7_juf8B",
    "outputId": "bb6fde0d-18a9-4306-8da9-ed9b6bd0631e"
   },
   "outputs": [
    {
     "data": {
      "text/plain": [
       "[21, 180, 13, 76, 193, 232, 116, 52, 165, 53]"
      ]
     },
     "execution_count": 29,
     "metadata": {},
     "output_type": "execute_result"
    }
   ],
   "source": [
    "# 채우기전에 limit nan = 금액한도없음 & rate nan = 금리없음 product_id 특징 만들어주기\n",
    "no_limit = result[result['loan_limit'].isnull()]['product_id'].unique()\n",
    "no_limit_list =[]\n",
    "\n",
    "for i in no_limit:\n",
    "  if type(result[result['product_id']==i]['loan_limit'].mean()) == float and pd.isna(result[result['product_id']==21]['loan_limit'].mean()):\n",
    "    no_limit_list.append(i)\n",
    "no_limit_list"
   ]
  },
  {
   "cell_type": "code",
   "execution_count": null,
   "metadata": {
    "id": "dZIa1uaTi_mk"
   },
   "outputs": [],
   "source": [
    "# 같은 product id를 가진 limit의 평균으로 채움\n",
    "for pr in no_limit:\n",
    "  try:\n",
    "    x = int(result.loc[result['product_id']==pr, 'loan_limit'].describe()['mean'])\n",
    "    result.loc[(result['product_id']==pr)&(result['loan_limit'].isnull()), 'loan_limit'] = x\n",
    "  except:\n",
    "    result.loc[(result['product_id']==pr)&(result['loan_limit'].isnull()), 'loan_limit']=int(result['loan_limit'].describe()['max'])"
   ]
  },
  {
   "cell_type": "code",
   "execution_count": null,
   "metadata": {
    "colab": {
     "base_uri": "https://localhost:8080/"
    },
    "id": "LEVA5K21rrT_",
    "outputId": "6550686e-a713-4be4-9062-800463530d92"
   },
   "outputs": [
    {
     "data": {
      "text/plain": [
       "[21, 180, 13, 76, 193, 232, 116, 52, 165, 53]"
      ]
     },
     "execution_count": 31,
     "metadata": {},
     "output_type": "execute_result"
    }
   ],
   "source": [
    "# loan_rate도 마찬가지로\n",
    "no_rate = result[result['loan_rate'].isnull()]['product_id'].unique()\n",
    "no_rate_list =[]\n",
    "\n",
    "for i in no_limit:\n",
    "  if type(result[result['product_id']==i]['loan_rate'].mean()) == float and pd.isna(result[result['product_id']==21]['loan_rate'].mean()):\n",
    "    no_rate_list.append(i)\n",
    "\n",
    "no_rate_list #[21, 180, 13, 76, 193, 232, 116, 52, 165, 53]"
   ]
  },
  {
   "cell_type": "code",
   "execution_count": null,
   "metadata": {
    "id": "JZ_nKwRKi_o2"
   },
   "outputs": [],
   "source": [
    "# 같은 product id를 가진 rate의 평균으로 채움\n",
    "for pr in no_rate:\n",
    "  try:\n",
    "    x = int(result.loc[result['product_id']==pr, 'loan_rate'].describe()['mean'])\n",
    "    result.loc[(result['product_id']==pr)&(result['loan_rate'].isnull()), 'loan_rate'] = x\n",
    "  except:\n",
    "    result.loc[(result['product_id']==pr)&(result['loan_rate'].isnull()), 'loan_rate']=int(result['loan_rate'].describe()['min'])"
   ]
  },
  {
   "cell_type": "code",
   "execution_count": null,
   "metadata": {
    "id": "NY6wGyhLk5IW"
   },
   "outputs": [],
   "source": [
    "#result.to_csv(\"/content/drive/Shareddrives/빅콘테스트/혜림/preprocessed_loan.csv\", index=False)"
   ]
  },
  {
   "cell_type": "markdown",
   "metadata": {
    "id": "mgW3-Etd0U5x"
   },
   "source": [
    "## merge"
   ]
  },
  {
   "cell_type": "code",
   "execution_count": null,
   "metadata": {
    "id": "1U1T1SimrX2N"
   },
   "outputs": [],
   "source": [
    "# import pandas as pd\n",
    "# user = pd.read_csv(\"/content/drive/Shareddrives/빅콘테스트/혜림/preprocseed_user.csv\")"
   ]
  },
  {
   "cell_type": "code",
   "execution_count": null,
   "metadata": {
    "id": "EQwj2WpHqdIM"
   },
   "outputs": [],
   "source": [
    "df = pd.merge(result, user,on='application_id', how='left')"
   ]
  },
  {
   "cell_type": "code",
   "execution_count": null,
   "metadata": {
    "id": "bk0mwm_VzZRY"
   },
   "outputs": [],
   "source": [
    "df=df.dropna()"
   ]
  },
  {
   "cell_type": "code",
   "execution_count": null,
   "metadata": {
    "id": "nbQTjWRouq_B"
   },
   "outputs": [],
   "source": [
    "df['no_limit_product'] = [0] * len(df)\n",
    "df.loc[(df['product_id'].isin([i for i in no_limit_list])), 'no_limit_product'] = 1"
   ]
  },
  {
   "cell_type": "code",
   "execution_count": null,
   "metadata": {
    "id": "b1tcNhUHzygO"
   },
   "outputs": [],
   "source": [
    "df.to_csv(\"/content/drive/Shareddrives/빅콘테스트/유민/221002/전처리 저장/preprocessed_df.csv\", index=False)"
   ]
  },
  {
   "cell_type": "markdown",
   "metadata": {
    "id": "GUTSMIiqsBUU"
   },
   "source": [
    "## 평일이면서 9~17시"
   ]
  },
  {
   "cell_type": "code",
   "execution_count": null,
   "metadata": {
    "id": "UTVVUYt-1FEe"
   },
   "outputs": [],
   "source": [
    "import pandas as pd\n",
    "df = pd.read_csv(\"/content/drive/Shareddrives/빅콘테스트/유민/221002/전처리 저장/preprocessed_df.csv\")"
   ]
  },
  {
   "cell_type": "code",
   "execution_count": null,
   "metadata": {
    "id": "0QTEIkbewScG"
   },
   "outputs": [],
   "source": [
    "def f4(df):\n",
    "    if (df['weekday'] <=4) & (df['hour'] in (9,17)) :  \n",
    "        val = 1\n",
    "    else:\n",
    "        val = 0\n",
    "    return val"
   ]
  },
  {
   "cell_type": "code",
   "execution_count": null,
   "metadata": {
    "id": "hWRAZDyN26Df"
   },
   "outputs": [],
   "source": [
    "df['loanapply_insert_time'] = pd.to_datetime(df['loanapply_insert_time'])\n",
    "df['hour'] = df['loanapply_insert_time'].dt.hour #시"
   ]
  },
  {
   "cell_type": "code",
   "execution_count": null,
   "metadata": {
    "id": "4nXjx7GIxwRT"
   },
   "outputs": [],
   "source": [
    "#df['week_pop'] = df.apply(f4, axis=1)\n",
    "\n",
    "df['week_pop'] = [0] * len(df)\n",
    "df.loc[(df['weekday'] <=4)&(df['hour'].isin([i for i in range(9, 17+1)])), 'week_pop'] = 1"
   ]
  },
  {
   "cell_type": "code",
   "execution_count": null,
   "metadata": {
    "id": "SH24BUC4qghX"
   },
   "outputs": [],
   "source": [
    "#log 변환\n",
    "import numpy as np\n",
    "df['employee_d'] = np.log1p(df['employee_d'])\n",
    "df['employee_y'] = np.log1p(df['employee_y'])\n",
    "df['employee_m'] = np.log1p(df['employee_m'])"
   ]
  },
  {
   "cell_type": "markdown",
   "metadata": {
    "id": "bHXyArFqsFcY"
   },
   "source": [
    "## 은행 상품 bin"
   ]
  },
  {
   "cell_type": "code",
   "execution_count": null,
   "metadata": {
    "id": "NVq8baeCObVG"
   },
   "outputs": [],
   "source": [
    "def make_bin(df, variable, n):\n",
    "    \n",
    "    data = df\n",
    "    count, bin_dividers = np.histogram(data[variable], bins=n)\n",
    "    bin_names=[str(i) for i in range(n)]\n",
    "    data['%s_bin' % variable] = pd.cut(x=data[variable], bins=bin_dividers, labels=bin_names, include_lowest=True)\n",
    "    data['%s_bin' % variable] = pd.factorize(data['%s_bin' % variable])[0]\n",
    "    print(data['%s_bin' % variable], '\\n\\n')\n",
    "    \n",
    "    return data"
   ]
  },
  {
   "cell_type": "code",
   "execution_count": null,
   "metadata": {
    "colab": {
     "base_uri": "https://localhost:8080/"
    },
    "id": "SC9gFl1ULOLN",
    "outputId": "602a1074-3aff-4e4a-a3a8-9fc310eb6b2d"
   },
   "outputs": [
    {
     "name": "stdout",
     "output_type": "stream",
     "text": [
      "0      0\n",
      "1      0\n",
      "2      0\n",
      "3      0\n",
      "4      0\n",
      "      ..\n",
      "173    4\n",
      "174    0\n",
      "175    0\n",
      "176    1\n",
      "177    0\n",
      "Name: is_applied_bin, Length: 178, dtype: int64 \n",
      "\n",
      "\n"
     ]
    }
   ],
   "source": [
    "data = df.groupby(by=['product_id']).sum()\n",
    "data = data[['is_applied']]\n",
    "data = data.reset_index().rename(columns={\"index\": \"id\"})\n",
    "\n",
    "data = make_bin(data, 'is_applied', n=5)"
   ]
  },
  {
   "cell_type": "code",
   "execution_count": null,
   "metadata": {
    "id": "0J3S65C4R4i6"
   },
   "outputs": [],
   "source": [
    "type_0 = data[data['is_applied_bin']==0]['product_id'].tolist()\n",
    "type_1 = data[data['is_applied_bin']==1]['product_id'].tolist()\n",
    "type_2 = data[data['is_applied_bin']==2]['product_id'].tolist()\n",
    "type_3 = data[data['is_applied_bin']==3]['product_id'].tolist()\n",
    "type_4 = data[data['is_applied_bin']==4]['product_id'].tolist()"
   ]
  },
  {
   "cell_type": "code",
   "execution_count": null,
   "metadata": {
    "id": "f4IDAhFqZh_E"
   },
   "outputs": [],
   "source": [
    "df['product_bin'] = len(df) * [0]\n",
    "df['product_bin'] = np.where(df['product_id'].isin(type_0), 1, df['product_bin'])\n",
    "df['product_bin'] = np.where(df['product_id'].isin(type_1), 2, df['product_bin'])\n",
    "df['product_bin'] = np.where(df['product_id'].isin(type_2), 3, df['product_bin'])\n",
    "df['product_bin'] = np.where(df['product_id'].isin(type_3), 4, df['product_bin'])\n",
    "df['product_bin'] = np.where(df['product_id'].isin(type_4), 5, df['product_bin'])"
   ]
  },
  {
   "cell_type": "code",
   "execution_count": null,
   "metadata": {
    "colab": {
     "base_uri": "https://localhost:8080/"
    },
    "id": "6LjmP626aJd8",
    "outputId": "8cf0dff5-b159-4413-8d5d-72593940b24c"
   },
   "outputs": [
    {
     "name": "stdout",
     "output_type": "stream",
     "text": [
      "0     0\n",
      "1     1\n",
      "2     1\n",
      "3     2\n",
      "4     1\n",
      "     ..\n",
      "57    1\n",
      "58    1\n",
      "59    0\n",
      "60    2\n",
      "61    1\n",
      "Name: is_applied_bin, Length: 62, dtype: int64 \n",
      "\n",
      "\n"
     ]
    }
   ],
   "source": [
    "data = df.groupby(by=['bank_id']).sum()\n",
    "data = data[['is_applied']]\n",
    "data = data.reset_index().rename(columns={\"index\": \"id\"})\n",
    "\n",
    "data = make_bin(data, 'is_applied', n=5)"
   ]
  },
  {
   "cell_type": "code",
   "execution_count": null,
   "metadata": {
    "id": "L43pZ5J-aJd9"
   },
   "outputs": [],
   "source": [
    "type_0 = data[data['is_applied_bin']==0]['bank_id'].tolist()\n",
    "type_1 = data[data['is_applied_bin']==1]['bank_id'].tolist()\n",
    "type_2 = data[data['is_applied_bin']==2]['bank_id'].tolist()\n",
    "type_3 = data[data['is_applied_bin']==3]['bank_id'].tolist()\n",
    "type_4 = data[data['is_applied_bin']==4]['bank_id'].tolist()"
   ]
  },
  {
   "cell_type": "code",
   "execution_count": null,
   "metadata": {
    "id": "EV5QoDPTaJd-"
   },
   "outputs": [],
   "source": [
    "df['bank_bin'] = len(df) * [0]\n",
    "df['bank_bin'] = np.where(df['bank_id'].isin(type_0), 1, df['bank_bin'])\n",
    "df['bank_bin'] = np.where(df['bank_id'].isin(type_1), 2, df['bank_bin'])\n",
    "df['bank_bin'] = np.where(df['bank_id'].isin(type_2), 3, df['bank_bin'])\n",
    "df['bank_bin'] = np.where(df['bank_id'].isin(type_3), 4, df['bank_bin'])\n",
    "df['bank_bin'] = np.where(df['bank_id'].isin(type_4), 5, df['bank_bin'])"
   ]
  },
  {
   "cell_type": "code",
   "execution_count": null,
   "metadata": {
    "id": "kfjE6WIP4JTE"
   },
   "outputs": [],
   "source": [
    "#df.to_csv(\"/content/drive/Shareddrives/빅콘테스트/혜림/preprocessed_df.csv\", index=False)"
   ]
  },
  {
   "cell_type": "markdown",
   "metadata": {
    "id": "dJw6L3CzuTn1"
   },
   "source": [
    "# 파생변수\n",
    "\n",
    "- 기대금액이 충분한지(is_enough)\n",
    "- 이자액은 얼마인지(interest)\n",
    "- 신용등급(credit_grade)\n",
    "- 은행 상품 몇 개 봤는지(viewed_product)\n",
    "- 신용등급 바뀌는 사람인지(credit_changed)"
   ]
  },
  {
   "cell_type": "code",
   "execution_count": null,
   "metadata": {
    "id": "8bW15iAkuWEO"
   },
   "outputs": [],
   "source": [
    "df['is_enough'] = (df['desired_amount']-df['loan_limit'])/df['loan_limit'] #inf 가 4969개\n",
    "df.loc[df['loan_limit']==0, 'is_enough'] = -1"
   ]
  },
  {
   "cell_type": "code",
   "execution_count": null,
   "metadata": {
    "id": "09ROi-Uqx6fc"
   },
   "outputs": [],
   "source": [
    "df['interest'] = df['desired_amount'] * df['loan_rate']"
   ]
  },
  {
   "cell_type": "code",
   "execution_count": null,
   "metadata": {
    "id": "q3gaZKbBp563"
   },
   "outputs": [],
   "source": [
    "def grade(x):\n",
    " if x>941 : \n",
    "   return 1\n",
    " elif x>890:\n",
    "   return 2\n",
    " elif x>831:\n",
    "   return 3\n",
    " elif x>767:\n",
    "   return 4\n",
    " elif x>697:\n",
    "   return 5\n",
    " elif x>629:\n",
    "   return 6\n",
    " elif x>529:\n",
    "   return 7\n",
    " elif x>453:\n",
    "   return 8\n",
    " elif x>334:\n",
    "   return 9\n",
    " else:\n",
    "   return 10\n",
    "\n",
    "df['credit_grade'] = df['credit_score'].apply(grade) "
   ]
  },
  {
   "cell_type": "code",
   "execution_count": null,
   "metadata": {
    "id": "uz0SQoOk4Kp_"
   },
   "outputs": [],
   "source": [
    "temp = df['application_id'].value_counts()\n",
    "df['viewd_product'] = df['application_id'].map(temp) "
   ]
  },
  {
   "cell_type": "code",
   "execution_count": null,
   "metadata": {
    "id": "kJnVYfzYp6LN"
   },
   "outputs": [],
   "source": [
    "a = df.groupby(['user_id'])\n",
    "b = a['credit_grade'].nunique()!=1\n",
    "\n",
    "temp = b.reset_index()\n",
    "temp.loc[temp['credit_grade']==True, 'user_id']\n",
    "\n",
    "df['credit_changed'] = [0] * len(df)\n",
    "df.loc[df['user_id'].isin(temp.loc[temp['credit_grade']==True, 'user_id'].tolist()), 'credit_changed'] = 1 "
   ]
  },
  {
   "cell_type": "code",
   "execution_count": null,
   "metadata": {
    "id": "n7A1P3HWJGXI"
   },
   "outputs": [],
   "source": [
    "#몇 번째 신청인지\n",
    "temp = df.groupby(['user_id','application_id'])['loanapply_insert_time'].rank(method='min', ascending=True)\n",
    "df['appli_order'] = temp\n",
    "\n",
    "#각 application_id 마다 loan_limit 기준으로 순위\n",
    "temp = df.groupby('application_id')['loan_limit'].rank(method='min', ascending=False)\n",
    "df['limit_order'] = temp\n",
    "\n",
    "# 지금 받는 월급으로 몇 년을 갚아야 할지 / 근데 이건 중요 변수 아니긴 했음\n",
    "df['loan_year'] = df['desired_amount']/df['yearly_income']\n",
    "df.replace([np.inf, -np.inf],100, inplace=True)"
   ]
  },
  {
   "cell_type": "code",
   "execution_count": null,
   "metadata": {
    "id": "4rFBysAeKuvO"
   },
   "outputs": [],
   "source": [
    "#희망금액이 연소득보다 많은가 ? => over_desire 욕심쟁이\n",
    "df['over_desire'] = (df['desired_amount']-df['yearly_income'])/df['yearly_income'] #inf인거 한 6000개 희망금액이랑 연소득 비교해서 희망금액이 높으면 over_desrie다 \n",
    "df.loc[df['yearly_income']==0, 'over_desire'] = 1\n",
    "\n",
    "#희망금액이 기존의 대출금액보다 많은가 ?  => over_desrie2\n",
    "df['over_desire2'] = (df['desired_amount']-df['existing_loan_amt'])/df['existing_loan_amt'] #inf인거 한 40000개\n",
    "df.loc[df['existing_loan_amt']==0, 'over_desire2'] = 1"
   ]
  },
  {
   "cell_type": "code",
   "execution_count": null,
   "metadata": {
    "id": "EziJZxLBK21I"
   },
   "outputs": [],
   "source": [
    "#기존대출경험 있는 사람 => experience\n",
    "def experience(x):\n",
    " if x>=1 : \n",
    "   return 1\n",
    " else:\n",
    "   return 0\n",
    "\n",
    "df['experience'] = df['existing_loan_cnt'].apply(experience) "
   ]
  },
  {
   "cell_type": "code",
   "execution_count": null,
   "metadata": {
    "id": "8Q6g0K5XlcG2"
   },
   "outputs": [],
   "source": [
    "#'personal_rehabilitation_yn',personal_rehabilitation_complete_yn','enter_m', 'employee_y', 'employee_m''month', 'day' 미리 삭제\n",
    "df = df[['application_id', 'loanapply_insert_time', 'bank_id', 'product_id','loan_limit', 'loan_rate', 'is_applied', 'user_id', 'gender', 'credit_score', 'yearly_income', 'income_type',\n",
    "        'employment_type', 'houseown_type', 'desired_amount', 'purpose', 'existing_loan_cnt','existing_loan_amt', 'age', 'foreign', 'enter_y','employee_d', 'hour','weekday', 'week_num', 'personal_rehabilitation_type',\n",
    "       'amount_income_rate', 'week_pop', 'product_bin', 'bank_bin', 'is_enough', 'interest', 'credit_grade', 'viewd_product','appli_order', 'limit_order', 'loan_year',\n",
    "       'over_desire', 'over_desire2']]"
   ]
  },
  {
   "cell_type": "code",
   "execution_count": null,
   "metadata": {
    "id": "jliKYVsFGw6D"
   },
   "outputs": [],
   "source": [
    "df.to_csv(\"/content/drive/Shareddrives/빅콘테스트/221007/전처리 저장/preprocessed_df2.csv\", index=False)"
   ]
  },
  {
   "cell_type": "markdown",
   "metadata": {
    "id": "-ZcQc7L7CCOa"
   },
   "source": [
    "## 혜림"
   ]
  },
  {
   "cell_type": "code",
   "execution_count": null,
   "metadata": {
    "id": "rACt7o4cIeMx"
   },
   "outputs": [],
   "source": [
    "import pandas as pd\n",
    "df = pd.read_csv(\"/content/drive/Shareddrives/빅콘테스트/221007/전처리 저장/preprocessed_df2.csv\")"
   ]
  },
  {
   "cell_type": "code",
   "execution_count": null,
   "metadata": {
    "id": "BIFLQAVB-Z9O"
   },
   "outputs": [],
   "source": [
    "data1 = pd.read_csv(\"/content/drive/Shareddrives/빅콘테스트/혜림/다르게 시작해보는.../복수통계_07172540.csv\")\n",
    "data2 = pd.read_csv(\"/content/drive/Shareddrives/빅콘테스트/혜림/다르게 시작해보는.../소비자동향조사(지역, 월)_07172513.csv\")\n",
    "\n",
    "df['loanapply_insert_time'] = pd.to_datetime(df['loanapply_insert_time'])\n",
    "df['loanapply_insert_time']  = df['loanapply_insert_time'].values.astype('datetime64[D]')"
   ]
  },
  {
   "cell_type": "code",
   "execution_count": null,
   "metadata": {
    "id": "oyDNxknl-qfO"
   },
   "outputs": [],
   "source": [
    "data1['변환'] = pd.to_datetime(data1['변환'])\n",
    "data1['변환'] = data1['변환'].values.astype('datetime64[D]')\n",
    "data1['변환']\n",
    "data1 = data1.fillna(method='ffill')"
   ]
  },
  {
   "cell_type": "code",
   "execution_count": null,
   "metadata": {
    "id": "YXDtXVZq-ryY"
   },
   "outputs": [],
   "source": [
    "data1.columns = ['loanapply_insert_time','news','interest_rate']\n",
    "df = pd.merge(df, data1[['loanapply_insert_time','news']],on='loanapply_insert_time', how='left')"
   ]
  },
  {
   "cell_type": "code",
   "execution_count": null,
   "metadata": {
    "id": "lah6LnrE-tcL"
   },
   "outputs": [],
   "source": [
    "df = df.sort_values(by=['loanapply_insert_time'])\n",
    "df['news'] = df['news'].fillna(method='bfill')"
   ]
  },
  {
   "cell_type": "markdown",
   "metadata": {
    "id": "2B_M6uWfJ7Eg"
   },
   "source": [
    "## 유민"
   ]
  },
  {
   "cell_type": "code",
   "execution_count": null,
   "metadata": {
    "id": "qrhl6OsTJ9dj"
   },
   "outputs": [],
   "source": [
    "#상환능력\n",
    "df['ablilty'] = df['existing_loan_amt']/df['yearly_income']*100\n",
    "df.loc[df['yearly_income']==0, 'ablilty'] = 0\n",
    "\n",
    "#상환의지\n",
    "\n",
    "\n",
    "#총부채원리금상환비율(DSR) : 원리금 나누기 연소득\n",
    "df['dsr'] = df['loan_limit']/df['yearly_income']*100\n",
    "df.loc[df['yearly_income']==0, 'dsr'] = 0"
   ]
  },
  {
   "cell_type": "code",
   "execution_count": null,
   "metadata": {
    "id": "EKJJMOpsL5hU"
   },
   "outputs": [],
   "source": [
    "df.to_csv(\"/content/drive/Shareddrives/빅콘테스트/221007/전처리 저장/preprocessed_df3.csv\", index=False)"
   ]
  },
  {
   "cell_type": "code",
   "execution_count": null,
   "metadata": {
    "id": "7aX1vCCzGJUI"
   },
   "outputs": [],
   "source": [
    "import pandas as pd\n",
    "df = pd.read_csv(\"/content/drive/Shareddrives/빅콘테스트/221007/전처리 저장/preprocessed_df3.csv\")"
   ]
  },
  {
   "cell_type": "code",
   "execution_count": null,
   "metadata": {
    "id": "MKCmnilCbptV"
   },
   "outputs": [],
   "source": [
    "a = df.groupby(['user_id'])\n",
    "b = a['yearly_income'].nunique()>=2\n",
    "\n",
    "temp = b.reset_index()\n",
    "temp.loc[temp['yearly_income']==True, 'user_id']\n",
    "\n",
    "df['income_changed'] = [0] * len(df)\n",
    "df.loc[df['user_id'].isin(temp.loc[temp['yearly_income']==True, 'user_id'].tolist()), 'income_changed'] = 1   #변동o : 400만, 변동x : 600만"
   ]
  },
  {
   "cell_type": "code",
   "execution_count": null,
   "metadata": {
    "colab": {
     "base_uri": "https://localhost:8080/",
     "height": 488
    },
    "id": "E-KPp46flrlR",
    "outputId": "f04668d0-6d6f-4848-c33e-e463d136a2f9"
   },
   "outputs": [
    {
     "data": {
      "text/html": [
       "\n",
       "  <div id=\"df-bd170650-5593-4e5f-bdd7-644ace3428ba\">\n",
       "    <div class=\"colab-df-container\">\n",
       "      <div>\n",
       "<style scoped>\n",
       "    .dataframe tbody tr th:only-of-type {\n",
       "        vertical-align: middle;\n",
       "    }\n",
       "\n",
       "    .dataframe tbody tr th {\n",
       "        vertical-align: top;\n",
       "    }\n",
       "\n",
       "    .dataframe thead th {\n",
       "        text-align: right;\n",
       "    }\n",
       "</style>\n",
       "<table border=\"1\" class=\"dataframe\">\n",
       "  <thead>\n",
       "    <tr style=\"text-align: right;\">\n",
       "      <th></th>\n",
       "      <th>application_id</th>\n",
       "      <th>loanapply_insert_time</th>\n",
       "      <th>bank_id</th>\n",
       "      <th>product_id</th>\n",
       "      <th>loan_limit</th>\n",
       "      <th>loan_rate</th>\n",
       "      <th>is_applied</th>\n",
       "      <th>user_id</th>\n",
       "      <th>gender</th>\n",
       "      <th>credit_score</th>\n",
       "      <th>...</th>\n",
       "      <th>viewd_product</th>\n",
       "      <th>appli_order</th>\n",
       "      <th>limit_order</th>\n",
       "      <th>loan_year</th>\n",
       "      <th>over_desire</th>\n",
       "      <th>over_desire2</th>\n",
       "      <th>news</th>\n",
       "      <th>ablilty</th>\n",
       "      <th>dsr</th>\n",
       "      <th>income_changed</th>\n",
       "    </tr>\n",
       "  </thead>\n",
       "  <tbody>\n",
       "    <tr>\n",
       "      <th>7</th>\n",
       "      <td>924308</td>\n",
       "      <td>2022-03-01</td>\n",
       "      <td>32</td>\n",
       "      <td>56</td>\n",
       "      <td>9000000.0</td>\n",
       "      <td>15.3</td>\n",
       "      <td>0.0</td>\n",
       "      <td>755049.0</td>\n",
       "      <td>1.0</td>\n",
       "      <td>760.0</td>\n",
       "      <td>...</td>\n",
       "      <td>11</td>\n",
       "      <td>6.0</td>\n",
       "      <td>10.0</td>\n",
       "      <td>1.346939</td>\n",
       "      <td>0.346939</td>\n",
       "      <td>-0.525180</td>\n",
       "      <td>98.61</td>\n",
       "      <td>283.673469</td>\n",
       "      <td>18.367347</td>\n",
       "      <td>0</td>\n",
       "    </tr>\n",
       "    <tr>\n",
       "      <th>8</th>\n",
       "      <td>924308</td>\n",
       "      <td>2022-03-01</td>\n",
       "      <td>35</td>\n",
       "      <td>168</td>\n",
       "      <td>23000000.0</td>\n",
       "      <td>19.1</td>\n",
       "      <td>0.0</td>\n",
       "      <td>755049.0</td>\n",
       "      <td>1.0</td>\n",
       "      <td>760.0</td>\n",
       "      <td>...</td>\n",
       "      <td>11</td>\n",
       "      <td>1.0</td>\n",
       "      <td>4.0</td>\n",
       "      <td>1.346939</td>\n",
       "      <td>0.346939</td>\n",
       "      <td>-0.525180</td>\n",
       "      <td>98.61</td>\n",
       "      <td>283.673469</td>\n",
       "      <td>46.938776</td>\n",
       "      <td>0</td>\n",
       "    </tr>\n",
       "    <tr>\n",
       "      <th>9</th>\n",
       "      <td>924308</td>\n",
       "      <td>2022-03-01</td>\n",
       "      <td>59</td>\n",
       "      <td>150</td>\n",
       "      <td>19000000.0</td>\n",
       "      <td>14.0</td>\n",
       "      <td>0.0</td>\n",
       "      <td>755049.0</td>\n",
       "      <td>1.0</td>\n",
       "      <td>760.0</td>\n",
       "      <td>...</td>\n",
       "      <td>11</td>\n",
       "      <td>1.0</td>\n",
       "      <td>7.0</td>\n",
       "      <td>1.346939</td>\n",
       "      <td>0.346939</td>\n",
       "      <td>-0.525180</td>\n",
       "      <td>98.61</td>\n",
       "      <td>283.673469</td>\n",
       "      <td>38.775510</td>\n",
       "      <td>0</td>\n",
       "    </tr>\n",
       "    <tr>\n",
       "      <th>10</th>\n",
       "      <td>924308</td>\n",
       "      <td>2022-03-01</td>\n",
       "      <td>21</td>\n",
       "      <td>196</td>\n",
       "      <td>3000000.0</td>\n",
       "      <td>10.9</td>\n",
       "      <td>0.0</td>\n",
       "      <td>755049.0</td>\n",
       "      <td>1.0</td>\n",
       "      <td>760.0</td>\n",
       "      <td>...</td>\n",
       "      <td>11</td>\n",
       "      <td>6.0</td>\n",
       "      <td>11.0</td>\n",
       "      <td>1.346939</td>\n",
       "      <td>0.346939</td>\n",
       "      <td>-0.525180</td>\n",
       "      <td>98.61</td>\n",
       "      <td>283.673469</td>\n",
       "      <td>6.122449</td>\n",
       "      <td>0</td>\n",
       "    </tr>\n",
       "    <tr>\n",
       "      <th>11</th>\n",
       "      <td>924308</td>\n",
       "      <td>2022-03-01</td>\n",
       "      <td>35</td>\n",
       "      <td>266</td>\n",
       "      <td>29000000.0</td>\n",
       "      <td>13.4</td>\n",
       "      <td>0.0</td>\n",
       "      <td>755049.0</td>\n",
       "      <td>1.0</td>\n",
       "      <td>760.0</td>\n",
       "      <td>...</td>\n",
       "      <td>11</td>\n",
       "      <td>10.0</td>\n",
       "      <td>2.0</td>\n",
       "      <td>1.346939</td>\n",
       "      <td>0.346939</td>\n",
       "      <td>-0.525180</td>\n",
       "      <td>98.61</td>\n",
       "      <td>283.673469</td>\n",
       "      <td>59.183673</td>\n",
       "      <td>0</td>\n",
       "    </tr>\n",
       "    <tr>\n",
       "      <th>...</th>\n",
       "      <td>...</td>\n",
       "      <td>...</td>\n",
       "      <td>...</td>\n",
       "      <td>...</td>\n",
       "      <td>...</td>\n",
       "      <td>...</td>\n",
       "      <td>...</td>\n",
       "      <td>...</td>\n",
       "      <td>...</td>\n",
       "      <td>...</td>\n",
       "      <td>...</td>\n",
       "      <td>...</td>\n",
       "      <td>...</td>\n",
       "      <td>...</td>\n",
       "      <td>...</td>\n",
       "      <td>...</td>\n",
       "      <td>...</td>\n",
       "      <td>...</td>\n",
       "      <td>...</td>\n",
       "      <td>...</td>\n",
       "      <td>...</td>\n",
       "    </tr>\n",
       "    <tr>\n",
       "      <th>10269106</th>\n",
       "      <td>161294</td>\n",
       "      <td>2022-05-31</td>\n",
       "      <td>22</td>\n",
       "      <td>221</td>\n",
       "      <td>10000000.0</td>\n",
       "      <td>17.5</td>\n",
       "      <td>0.0</td>\n",
       "      <td>89064.0</td>\n",
       "      <td>0.0</td>\n",
       "      <td>680.0</td>\n",
       "      <td>...</td>\n",
       "      <td>29</td>\n",
       "      <td>16.0</td>\n",
       "      <td>21.0</td>\n",
       "      <td>0.914286</td>\n",
       "      <td>-0.085714</td>\n",
       "      <td>4.333333</td>\n",
       "      <td>110.32</td>\n",
       "      <td>17.142857</td>\n",
       "      <td>28.571429</td>\n",
       "      <td>0</td>\n",
       "    </tr>\n",
       "    <tr>\n",
       "      <th>10269107</th>\n",
       "      <td>956225</td>\n",
       "      <td>2022-05-31</td>\n",
       "      <td>11</td>\n",
       "      <td>118</td>\n",
       "      <td>10000000.0</td>\n",
       "      <td>16.4</td>\n",
       "      <td>0.0</td>\n",
       "      <td>89064.0</td>\n",
       "      <td>0.0</td>\n",
       "      <td>680.0</td>\n",
       "      <td>...</td>\n",
       "      <td>20</td>\n",
       "      <td>14.0</td>\n",
       "      <td>14.0</td>\n",
       "      <td>0.428571</td>\n",
       "      <td>-0.571429</td>\n",
       "      <td>1.500000</td>\n",
       "      <td>110.32</td>\n",
       "      <td>17.142857</td>\n",
       "      <td>28.571429</td>\n",
       "      <td>0</td>\n",
       "    </tr>\n",
       "    <tr>\n",
       "      <th>10269108</th>\n",
       "      <td>956225</td>\n",
       "      <td>2022-05-31</td>\n",
       "      <td>32</td>\n",
       "      <td>56</td>\n",
       "      <td>38000000.0</td>\n",
       "      <td>15.0</td>\n",
       "      <td>0.0</td>\n",
       "      <td>89064.0</td>\n",
       "      <td>0.0</td>\n",
       "      <td>680.0</td>\n",
       "      <td>...</td>\n",
       "      <td>20</td>\n",
       "      <td>4.0</td>\n",
       "      <td>2.0</td>\n",
       "      <td>0.428571</td>\n",
       "      <td>-0.571429</td>\n",
       "      <td>1.500000</td>\n",
       "      <td>110.32</td>\n",
       "      <td>17.142857</td>\n",
       "      <td>108.571429</td>\n",
       "      <td>0</td>\n",
       "    </tr>\n",
       "    <tr>\n",
       "      <th>10269109</th>\n",
       "      <td>956225</td>\n",
       "      <td>2022-05-31</td>\n",
       "      <td>38</td>\n",
       "      <td>223</td>\n",
       "      <td>23000000.0</td>\n",
       "      <td>14.0</td>\n",
       "      <td>0.0</td>\n",
       "      <td>89064.0</td>\n",
       "      <td>0.0</td>\n",
       "      <td>680.0</td>\n",
       "      <td>...</td>\n",
       "      <td>20</td>\n",
       "      <td>1.0</td>\n",
       "      <td>9.0</td>\n",
       "      <td>0.428571</td>\n",
       "      <td>-0.571429</td>\n",
       "      <td>1.500000</td>\n",
       "      <td>110.32</td>\n",
       "      <td>17.142857</td>\n",
       "      <td>65.714286</td>\n",
       "      <td>0</td>\n",
       "    </tr>\n",
       "    <tr>\n",
       "      <th>10269110</th>\n",
       "      <td>200799</td>\n",
       "      <td>2022-05-31</td>\n",
       "      <td>6</td>\n",
       "      <td>36</td>\n",
       "      <td>29000000.0</td>\n",
       "      <td>17.7</td>\n",
       "      <td>0.0</td>\n",
       "      <td>567639.0</td>\n",
       "      <td>1.0</td>\n",
       "      <td>630.0</td>\n",
       "      <td>...</td>\n",
       "      <td>10</td>\n",
       "      <td>4.0</td>\n",
       "      <td>1.0</td>\n",
       "      <td>0.151515</td>\n",
       "      <td>-0.848485</td>\n",
       "      <td>-0.750000</td>\n",
       "      <td>110.32</td>\n",
       "      <td>60.606061</td>\n",
       "      <td>87.878788</td>\n",
       "      <td>0</td>\n",
       "    </tr>\n",
       "  </tbody>\n",
       "</table>\n",
       "<p>6306443 rows × 43 columns</p>\n",
       "</div>\n",
       "      <button class=\"colab-df-convert\" onclick=\"convertToInteractive('df-bd170650-5593-4e5f-bdd7-644ace3428ba')\"\n",
       "              title=\"Convert this dataframe to an interactive table.\"\n",
       "              style=\"display:none;\">\n",
       "        \n",
       "  <svg xmlns=\"http://www.w3.org/2000/svg\" height=\"24px\"viewBox=\"0 0 24 24\"\n",
       "       width=\"24px\">\n",
       "    <path d=\"M0 0h24v24H0V0z\" fill=\"none\"/>\n",
       "    <path d=\"M18.56 5.44l.94 2.06.94-2.06 2.06-.94-2.06-.94-.94-2.06-.94 2.06-2.06.94zm-11 1L8.5 8.5l.94-2.06 2.06-.94-2.06-.94L8.5 2.5l-.94 2.06-2.06.94zm10 10l.94 2.06.94-2.06 2.06-.94-2.06-.94-.94-2.06-.94 2.06-2.06.94z\"/><path d=\"M17.41 7.96l-1.37-1.37c-.4-.4-.92-.59-1.43-.59-.52 0-1.04.2-1.43.59L10.3 9.45l-7.72 7.72c-.78.78-.78 2.05 0 2.83L4 21.41c.39.39.9.59 1.41.59.51 0 1.02-.2 1.41-.59l7.78-7.78 2.81-2.81c.8-.78.8-2.07 0-2.86zM5.41 20L4 18.59l7.72-7.72 1.47 1.35L5.41 20z\"/>\n",
       "  </svg>\n",
       "      </button>\n",
       "      \n",
       "  <style>\n",
       "    .colab-df-container {\n",
       "      display:flex;\n",
       "      flex-wrap:wrap;\n",
       "      gap: 12px;\n",
       "    }\n",
       "\n",
       "    .colab-df-convert {\n",
       "      background-color: #E8F0FE;\n",
       "      border: none;\n",
       "      border-radius: 50%;\n",
       "      cursor: pointer;\n",
       "      display: none;\n",
       "      fill: #1967D2;\n",
       "      height: 32px;\n",
       "      padding: 0 0 0 0;\n",
       "      width: 32px;\n",
       "    }\n",
       "\n",
       "    .colab-df-convert:hover {\n",
       "      background-color: #E2EBFA;\n",
       "      box-shadow: 0px 1px 2px rgba(60, 64, 67, 0.3), 0px 1px 3px 1px rgba(60, 64, 67, 0.15);\n",
       "      fill: #174EA6;\n",
       "    }\n",
       "\n",
       "    [theme=dark] .colab-df-convert {\n",
       "      background-color: #3B4455;\n",
       "      fill: #D2E3FC;\n",
       "    }\n",
       "\n",
       "    [theme=dark] .colab-df-convert:hover {\n",
       "      background-color: #434B5C;\n",
       "      box-shadow: 0px 1px 3px 1px rgba(0, 0, 0, 0.15);\n",
       "      filter: drop-shadow(0px 1px 2px rgba(0, 0, 0, 0.3));\n",
       "      fill: #FFFFFF;\n",
       "    }\n",
       "  </style>\n",
       "\n",
       "      <script>\n",
       "        const buttonEl =\n",
       "          document.querySelector('#df-bd170650-5593-4e5f-bdd7-644ace3428ba button.colab-df-convert');\n",
       "        buttonEl.style.display =\n",
       "          google.colab.kernel.accessAllowed ? 'block' : 'none';\n",
       "\n",
       "        async function convertToInteractive(key) {\n",
       "          const element = document.querySelector('#df-bd170650-5593-4e5f-bdd7-644ace3428ba');\n",
       "          const dataTable =\n",
       "            await google.colab.kernel.invokeFunction('convertToInteractive',\n",
       "                                                     [key], {});\n",
       "          if (!dataTable) return;\n",
       "\n",
       "          const docLinkHtml = 'Like what you see? Visit the ' +\n",
       "            '<a target=\"_blank\" href=https://colab.research.google.com/notebooks/data_table.ipynb>data table notebook</a>'\n",
       "            + ' to learn more about interactive tables.';\n",
       "          element.innerHTML = '';\n",
       "          dataTable['output_type'] = 'display_data';\n",
       "          await google.colab.output.renderOutput(dataTable, element);\n",
       "          const docLink = document.createElement('div');\n",
       "          docLink.innerHTML = docLinkHtml;\n",
       "          element.appendChild(docLink);\n",
       "        }\n",
       "      </script>\n",
       "    </div>\n",
       "  </div>\n",
       "  "
      ],
      "text/plain": [
       "          application_id loanapply_insert_time  bank_id  product_id  \\\n",
       "7                 924308            2022-03-01       32          56   \n",
       "8                 924308            2022-03-01       35         168   \n",
       "9                 924308            2022-03-01       59         150   \n",
       "10                924308            2022-03-01       21         196   \n",
       "11                924308            2022-03-01       35         266   \n",
       "...                  ...                   ...      ...         ...   \n",
       "10269106          161294            2022-05-31       22         221   \n",
       "10269107          956225            2022-05-31       11         118   \n",
       "10269108          956225            2022-05-31       32          56   \n",
       "10269109          956225            2022-05-31       38         223   \n",
       "10269110          200799            2022-05-31        6          36   \n",
       "\n",
       "          loan_limit  loan_rate  is_applied   user_id  gender  credit_score  \\\n",
       "7          9000000.0       15.3         0.0  755049.0     1.0         760.0   \n",
       "8         23000000.0       19.1         0.0  755049.0     1.0         760.0   \n",
       "9         19000000.0       14.0         0.0  755049.0     1.0         760.0   \n",
       "10         3000000.0       10.9         0.0  755049.0     1.0         760.0   \n",
       "11        29000000.0       13.4         0.0  755049.0     1.0         760.0   \n",
       "...              ...        ...         ...       ...     ...           ...   \n",
       "10269106  10000000.0       17.5         0.0   89064.0     0.0         680.0   \n",
       "10269107  10000000.0       16.4         0.0   89064.0     0.0         680.0   \n",
       "10269108  38000000.0       15.0         0.0   89064.0     0.0         680.0   \n",
       "10269109  23000000.0       14.0         0.0   89064.0     0.0         680.0   \n",
       "10269110  29000000.0       17.7         0.0  567639.0     1.0         630.0   \n",
       "\n",
       "          ...  viewd_product appli_order limit_order loan_year  over_desire  \\\n",
       "7         ...             11         6.0        10.0  1.346939     0.346939   \n",
       "8         ...             11         1.0         4.0  1.346939     0.346939   \n",
       "9         ...             11         1.0         7.0  1.346939     0.346939   \n",
       "10        ...             11         6.0        11.0  1.346939     0.346939   \n",
       "11        ...             11        10.0         2.0  1.346939     0.346939   \n",
       "...       ...            ...         ...         ...       ...          ...   \n",
       "10269106  ...             29        16.0        21.0  0.914286    -0.085714   \n",
       "10269107  ...             20        14.0        14.0  0.428571    -0.571429   \n",
       "10269108  ...             20         4.0         2.0  0.428571    -0.571429   \n",
       "10269109  ...             20         1.0         9.0  0.428571    -0.571429   \n",
       "10269110  ...             10         4.0         1.0  0.151515    -0.848485   \n",
       "\n",
       "         over_desire2    news     ablilty         dsr  income_changed  \n",
       "7           -0.525180   98.61  283.673469   18.367347               0  \n",
       "8           -0.525180   98.61  283.673469   46.938776               0  \n",
       "9           -0.525180   98.61  283.673469   38.775510               0  \n",
       "10          -0.525180   98.61  283.673469    6.122449               0  \n",
       "11          -0.525180   98.61  283.673469   59.183673               0  \n",
       "...               ...     ...         ...         ...             ...  \n",
       "10269106     4.333333  110.32   17.142857   28.571429               0  \n",
       "10269107     1.500000  110.32   17.142857   28.571429               0  \n",
       "10269108     1.500000  110.32   17.142857  108.571429               0  \n",
       "10269109     1.500000  110.32   17.142857   65.714286               0  \n",
       "10269110    -0.750000  110.32   60.606061   87.878788               0  \n",
       "\n",
       "[6306443 rows x 43 columns]"
      ]
     },
     "execution_count": 3,
     "metadata": {},
     "output_type": "execute_result"
    }
   ],
   "source": [
    "df[df['income_changed']==0]"
   ]
  },
  {
   "cell_type": "markdown",
   "metadata": {
    "id": "I6nT4H_jCIbf"
   },
   "source": [
    "# 저장"
   ]
  },
  {
   "cell_type": "markdown",
   "metadata": {
    "id": "G62brlm5HeY_"
   },
   "source": [
    "# split"
   ]
  },
  {
   "cell_type": "code",
   "execution_count": null,
   "metadata": {
    "id": "dYkHDM5gTqzJ"
   },
   "outputs": [],
   "source": [
    "# train:5월 그 전 + 100만개 train,val은(train에 34월 val에 5월12주) / test:5월 마지막 둘째주\n",
    "## 3,4월로 5월 예측\n",
    "train = df[df['week_num'] < 20]\n",
    "test = df[(df['week_num'] >=20)] #5월 16~31일"
   ]
  },
  {
   "cell_type": "code",
   "execution_count": null,
   "metadata": {
    "id": "ZimyUdlHJGVJ"
   },
   "outputs": [],
   "source": [
    "#len(train[train['is_applied']==0])"
   ]
  },
  {
   "cell_type": "code",
   "execution_count": null,
   "metadata": {
    "id": "5NZRmGPbTqzJ"
   },
   "outputs": [],
   "source": [
    "app1 = train[(train['is_applied']==1) & (train['income_changed']==0)].sample(n=200000, replace=False)  #1:9, 2:8, 3:7(0.22), 4:6\n",
    "app0 = train[(train['is_applied']==0) & (train['income_changed']==0)].sample(n=2000000, replace=False)  # 20만 : 200만 = 0.23 / 20:180만 = 0.22  30만 : 70만 = 0.22/ 20만:400만 :0.20\n",
    "train = pd.concat([app1,app0], axis = 0).reset_index(drop=True)"
   ]
  },
  {
   "cell_type": "code",
   "execution_count": null,
   "metadata": {
    "colab": {
     "base_uri": "https://localhost:8080/",
     "height": 488
    },
    "id": "D0v_Gou_F9U7",
    "outputId": "bc9c70d0-44e8-4817-dc85-af8ba5f16a76"
   },
   "outputs": [
    {
     "data": {
      "text/html": [
       "\n",
       "  <div id=\"df-aeaf5439-3c9d-4121-8693-99b559b1c6b3\">\n",
       "    <div class=\"colab-df-container\">\n",
       "      <div>\n",
       "<style scoped>\n",
       "    .dataframe tbody tr th:only-of-type {\n",
       "        vertical-align: middle;\n",
       "    }\n",
       "\n",
       "    .dataframe tbody tr th {\n",
       "        vertical-align: top;\n",
       "    }\n",
       "\n",
       "    .dataframe thead th {\n",
       "        text-align: right;\n",
       "    }\n",
       "</style>\n",
       "<table border=\"1\" class=\"dataframe\">\n",
       "  <thead>\n",
       "    <tr style=\"text-align: right;\">\n",
       "      <th></th>\n",
       "      <th>application_id</th>\n",
       "      <th>loanapply_insert_time</th>\n",
       "      <th>bank_id</th>\n",
       "      <th>product_id</th>\n",
       "      <th>loan_limit</th>\n",
       "      <th>loan_rate</th>\n",
       "      <th>is_applied</th>\n",
       "      <th>user_id</th>\n",
       "      <th>gender</th>\n",
       "      <th>credit_score</th>\n",
       "      <th>...</th>\n",
       "      <th>viewd_product</th>\n",
       "      <th>appli_order</th>\n",
       "      <th>limit_order</th>\n",
       "      <th>loan_year</th>\n",
       "      <th>over_desire</th>\n",
       "      <th>over_desire2</th>\n",
       "      <th>news</th>\n",
       "      <th>ablilty</th>\n",
       "      <th>dsr</th>\n",
       "      <th>income_changed</th>\n",
       "    </tr>\n",
       "  </thead>\n",
       "  <tbody>\n",
       "    <tr>\n",
       "      <th>0</th>\n",
       "      <td>729898</td>\n",
       "      <td>2022-05-12</td>\n",
       "      <td>4</td>\n",
       "      <td>268</td>\n",
       "      <td>7000000.0</td>\n",
       "      <td>9.1</td>\n",
       "      <td>1.0</td>\n",
       "      <td>386164.0</td>\n",
       "      <td>1.0</td>\n",
       "      <td>610.0</td>\n",
       "      <td>...</td>\n",
       "      <td>29</td>\n",
       "      <td>18.0</td>\n",
       "      <td>9.0</td>\n",
       "      <td>0.333333</td>\n",
       "      <td>-0.666667</td>\n",
       "      <td>-0.930070</td>\n",
       "      <td>95.46</td>\n",
       "      <td>476.666667</td>\n",
       "      <td>11.666667</td>\n",
       "      <td>0</td>\n",
       "    </tr>\n",
       "    <tr>\n",
       "      <th>1</th>\n",
       "      <td>1571678</td>\n",
       "      <td>2022-03-31</td>\n",
       "      <td>63</td>\n",
       "      <td>226</td>\n",
       "      <td>27000000.0</td>\n",
       "      <td>15.6</td>\n",
       "      <td>1.0</td>\n",
       "      <td>527727.0</td>\n",
       "      <td>1.0</td>\n",
       "      <td>560.0</td>\n",
       "      <td>...</td>\n",
       "      <td>1</td>\n",
       "      <td>1.0</td>\n",
       "      <td>1.0</td>\n",
       "      <td>0.151515</td>\n",
       "      <td>-0.848485</td>\n",
       "      <td>-0.948454</td>\n",
       "      <td>107.22</td>\n",
       "      <td>293.939394</td>\n",
       "      <td>81.818182</td>\n",
       "      <td>0</td>\n",
       "    </tr>\n",
       "    <tr>\n",
       "      <th>2</th>\n",
       "      <td>1178319</td>\n",
       "      <td>2022-04-18</td>\n",
       "      <td>49</td>\n",
       "      <td>136</td>\n",
       "      <td>9000000.0</td>\n",
       "      <td>6.5</td>\n",
       "      <td>1.0</td>\n",
       "      <td>174786.0</td>\n",
       "      <td>1.0</td>\n",
       "      <td>0.0</td>\n",
       "      <td>...</td>\n",
       "      <td>9</td>\n",
       "      <td>9.0</td>\n",
       "      <td>3.0</td>\n",
       "      <td>5.000000</td>\n",
       "      <td>4.000000</td>\n",
       "      <td>1.000000</td>\n",
       "      <td>102.73</td>\n",
       "      <td>0.000000</td>\n",
       "      <td>900.000000</td>\n",
       "      <td>0</td>\n",
       "    </tr>\n",
       "    <tr>\n",
       "      <th>3</th>\n",
       "      <td>1110252</td>\n",
       "      <td>2022-03-10</td>\n",
       "      <td>59</td>\n",
       "      <td>150</td>\n",
       "      <td>31000000.0</td>\n",
       "      <td>15.0</td>\n",
       "      <td>1.0</td>\n",
       "      <td>152264.0</td>\n",
       "      <td>1.0</td>\n",
       "      <td>440.0</td>\n",
       "      <td>...</td>\n",
       "      <td>9</td>\n",
       "      <td>1.0</td>\n",
       "      <td>1.0</td>\n",
       "      <td>0.238095</td>\n",
       "      <td>-0.761905</td>\n",
       "      <td>1.000000</td>\n",
       "      <td>94.39</td>\n",
       "      <td>0.000000</td>\n",
       "      <td>73.809524</td>\n",
       "      <td>0</td>\n",
       "    </tr>\n",
       "    <tr>\n",
       "      <th>4</th>\n",
       "      <td>1089478</td>\n",
       "      <td>2022-03-19</td>\n",
       "      <td>38</td>\n",
       "      <td>223</td>\n",
       "      <td>30000000.0</td>\n",
       "      <td>17.1</td>\n",
       "      <td>1.0</td>\n",
       "      <td>64018.0</td>\n",
       "      <td>1.0</td>\n",
       "      <td>580.0</td>\n",
       "      <td>...</td>\n",
       "      <td>4</td>\n",
       "      <td>1.0</td>\n",
       "      <td>2.0</td>\n",
       "      <td>0.020000</td>\n",
       "      <td>-0.980000</td>\n",
       "      <td>-0.988636</td>\n",
       "      <td>106.02</td>\n",
       "      <td>176.000000</td>\n",
       "      <td>60.000000</td>\n",
       "      <td>0</td>\n",
       "    </tr>\n",
       "    <tr>\n",
       "      <th>...</th>\n",
       "      <td>...</td>\n",
       "      <td>...</td>\n",
       "      <td>...</td>\n",
       "      <td>...</td>\n",
       "      <td>...</td>\n",
       "      <td>...</td>\n",
       "      <td>...</td>\n",
       "      <td>...</td>\n",
       "      <td>...</td>\n",
       "      <td>...</td>\n",
       "      <td>...</td>\n",
       "      <td>...</td>\n",
       "      <td>...</td>\n",
       "      <td>...</td>\n",
       "      <td>...</td>\n",
       "      <td>...</td>\n",
       "      <td>...</td>\n",
       "      <td>...</td>\n",
       "      <td>...</td>\n",
       "      <td>...</td>\n",
       "      <td>...</td>\n",
       "    </tr>\n",
       "    <tr>\n",
       "      <th>2199995</th>\n",
       "      <td>883216</td>\n",
       "      <td>2022-04-28</td>\n",
       "      <td>59</td>\n",
       "      <td>251</td>\n",
       "      <td>10000000.0</td>\n",
       "      <td>6.5</td>\n",
       "      <td>0.0</td>\n",
       "      <td>602998.0</td>\n",
       "      <td>1.0</td>\n",
       "      <td>640.0</td>\n",
       "      <td>...</td>\n",
       "      <td>9</td>\n",
       "      <td>1.0</td>\n",
       "      <td>2.0</td>\n",
       "      <td>0.689655</td>\n",
       "      <td>-0.310345</td>\n",
       "      <td>-0.939024</td>\n",
       "      <td>105.61</td>\n",
       "      <td>1131.034483</td>\n",
       "      <td>34.482759</td>\n",
       "      <td>0</td>\n",
       "    </tr>\n",
       "    <tr>\n",
       "      <th>2199996</th>\n",
       "      <td>788386</td>\n",
       "      <td>2022-04-22</td>\n",
       "      <td>28</td>\n",
       "      <td>217</td>\n",
       "      <td>2000000.0</td>\n",
       "      <td>15.0</td>\n",
       "      <td>0.0</td>\n",
       "      <td>26952.0</td>\n",
       "      <td>1.0</td>\n",
       "      <td>750.0</td>\n",
       "      <td>...</td>\n",
       "      <td>40</td>\n",
       "      <td>10.0</td>\n",
       "      <td>40.0</td>\n",
       "      <td>1.000000</td>\n",
       "      <td>0.000000</td>\n",
       "      <td>-0.560440</td>\n",
       "      <td>103.80</td>\n",
       "      <td>227.500000</td>\n",
       "      <td>5.000000</td>\n",
       "      <td>0</td>\n",
       "    </tr>\n",
       "    <tr>\n",
       "      <th>2199997</th>\n",
       "      <td>1846925</td>\n",
       "      <td>2022-05-11</td>\n",
       "      <td>34</td>\n",
       "      <td>248</td>\n",
       "      <td>37000000.0</td>\n",
       "      <td>11.9</td>\n",
       "      <td>0.0</td>\n",
       "      <td>707105.0</td>\n",
       "      <td>1.0</td>\n",
       "      <td>780.0</td>\n",
       "      <td>...</td>\n",
       "      <td>45</td>\n",
       "      <td>20.0</td>\n",
       "      <td>19.0</td>\n",
       "      <td>0.735294</td>\n",
       "      <td>-0.264706</td>\n",
       "      <td>-0.375000</td>\n",
       "      <td>95.27</td>\n",
       "      <td>117.647059</td>\n",
       "      <td>54.411765</td>\n",
       "      <td>0</td>\n",
       "    </tr>\n",
       "    <tr>\n",
       "      <th>2199998</th>\n",
       "      <td>1839465</td>\n",
       "      <td>2022-03-20</td>\n",
       "      <td>6</td>\n",
       "      <td>36</td>\n",
       "      <td>12000000.0</td>\n",
       "      <td>13.1</td>\n",
       "      <td>0.0</td>\n",
       "      <td>300465.0</td>\n",
       "      <td>0.0</td>\n",
       "      <td>700.0</td>\n",
       "      <td>...</td>\n",
       "      <td>30</td>\n",
       "      <td>8.0</td>\n",
       "      <td>14.0</td>\n",
       "      <td>2.000000</td>\n",
       "      <td>1.000000</td>\n",
       "      <td>0.052632</td>\n",
       "      <td>106.02</td>\n",
       "      <td>190.000000</td>\n",
       "      <td>60.000000</td>\n",
       "      <td>0</td>\n",
       "    </tr>\n",
       "    <tr>\n",
       "      <th>2199999</th>\n",
       "      <td>865579</td>\n",
       "      <td>2022-05-06</td>\n",
       "      <td>22</td>\n",
       "      <td>221</td>\n",
       "      <td>10000000.0</td>\n",
       "      <td>18.4</td>\n",
       "      <td>0.0</td>\n",
       "      <td>139285.0</td>\n",
       "      <td>0.0</td>\n",
       "      <td>0.0</td>\n",
       "      <td>...</td>\n",
       "      <td>54</td>\n",
       "      <td>38.0</td>\n",
       "      <td>33.0</td>\n",
       "      <td>0.555556</td>\n",
       "      <td>-0.444444</td>\n",
       "      <td>1.000000</td>\n",
       "      <td>103.17</td>\n",
       "      <td>0.000000</td>\n",
       "      <td>27.777778</td>\n",
       "      <td>0</td>\n",
       "    </tr>\n",
       "  </tbody>\n",
       "</table>\n",
       "<p>2200000 rows × 43 columns</p>\n",
       "</div>\n",
       "      <button class=\"colab-df-convert\" onclick=\"convertToInteractive('df-aeaf5439-3c9d-4121-8693-99b559b1c6b3')\"\n",
       "              title=\"Convert this dataframe to an interactive table.\"\n",
       "              style=\"display:none;\">\n",
       "        \n",
       "  <svg xmlns=\"http://www.w3.org/2000/svg\" height=\"24px\"viewBox=\"0 0 24 24\"\n",
       "       width=\"24px\">\n",
       "    <path d=\"M0 0h24v24H0V0z\" fill=\"none\"/>\n",
       "    <path d=\"M18.56 5.44l.94 2.06.94-2.06 2.06-.94-2.06-.94-.94-2.06-.94 2.06-2.06.94zm-11 1L8.5 8.5l.94-2.06 2.06-.94-2.06-.94L8.5 2.5l-.94 2.06-2.06.94zm10 10l.94 2.06.94-2.06 2.06-.94-2.06-.94-.94-2.06-.94 2.06-2.06.94z\"/><path d=\"M17.41 7.96l-1.37-1.37c-.4-.4-.92-.59-1.43-.59-.52 0-1.04.2-1.43.59L10.3 9.45l-7.72 7.72c-.78.78-.78 2.05 0 2.83L4 21.41c.39.39.9.59 1.41.59.51 0 1.02-.2 1.41-.59l7.78-7.78 2.81-2.81c.8-.78.8-2.07 0-2.86zM5.41 20L4 18.59l7.72-7.72 1.47 1.35L5.41 20z\"/>\n",
       "  </svg>\n",
       "      </button>\n",
       "      \n",
       "  <style>\n",
       "    .colab-df-container {\n",
       "      display:flex;\n",
       "      flex-wrap:wrap;\n",
       "      gap: 12px;\n",
       "    }\n",
       "\n",
       "    .colab-df-convert {\n",
       "      background-color: #E8F0FE;\n",
       "      border: none;\n",
       "      border-radius: 50%;\n",
       "      cursor: pointer;\n",
       "      display: none;\n",
       "      fill: #1967D2;\n",
       "      height: 32px;\n",
       "      padding: 0 0 0 0;\n",
       "      width: 32px;\n",
       "    }\n",
       "\n",
       "    .colab-df-convert:hover {\n",
       "      background-color: #E2EBFA;\n",
       "      box-shadow: 0px 1px 2px rgba(60, 64, 67, 0.3), 0px 1px 3px 1px rgba(60, 64, 67, 0.15);\n",
       "      fill: #174EA6;\n",
       "    }\n",
       "\n",
       "    [theme=dark] .colab-df-convert {\n",
       "      background-color: #3B4455;\n",
       "      fill: #D2E3FC;\n",
       "    }\n",
       "\n",
       "    [theme=dark] .colab-df-convert:hover {\n",
       "      background-color: #434B5C;\n",
       "      box-shadow: 0px 1px 3px 1px rgba(0, 0, 0, 0.15);\n",
       "      filter: drop-shadow(0px 1px 2px rgba(0, 0, 0, 0.3));\n",
       "      fill: #FFFFFF;\n",
       "    }\n",
       "  </style>\n",
       "\n",
       "      <script>\n",
       "        const buttonEl =\n",
       "          document.querySelector('#df-aeaf5439-3c9d-4121-8693-99b559b1c6b3 button.colab-df-convert');\n",
       "        buttonEl.style.display =\n",
       "          google.colab.kernel.accessAllowed ? 'block' : 'none';\n",
       "\n",
       "        async function convertToInteractive(key) {\n",
       "          const element = document.querySelector('#df-aeaf5439-3c9d-4121-8693-99b559b1c6b3');\n",
       "          const dataTable =\n",
       "            await google.colab.kernel.invokeFunction('convertToInteractive',\n",
       "                                                     [key], {});\n",
       "          if (!dataTable) return;\n",
       "\n",
       "          const docLinkHtml = 'Like what you see? Visit the ' +\n",
       "            '<a target=\"_blank\" href=https://colab.research.google.com/notebooks/data_table.ipynb>data table notebook</a>'\n",
       "            + ' to learn more about interactive tables.';\n",
       "          element.innerHTML = '';\n",
       "          dataTable['output_type'] = 'display_data';\n",
       "          await google.colab.output.renderOutput(dataTable, element);\n",
       "          const docLink = document.createElement('div');\n",
       "          docLink.innerHTML = docLinkHtml;\n",
       "          element.appendChild(docLink);\n",
       "        }\n",
       "      </script>\n",
       "    </div>\n",
       "  </div>\n",
       "  "
      ],
      "text/plain": [
       "         application_id loanapply_insert_time  bank_id  product_id  \\\n",
       "0                729898            2022-05-12        4         268   \n",
       "1               1571678            2022-03-31       63         226   \n",
       "2               1178319            2022-04-18       49         136   \n",
       "3               1110252            2022-03-10       59         150   \n",
       "4               1089478            2022-03-19       38         223   \n",
       "...                 ...                   ...      ...         ...   \n",
       "2199995          883216            2022-04-28       59         251   \n",
       "2199996          788386            2022-04-22       28         217   \n",
       "2199997         1846925            2022-05-11       34         248   \n",
       "2199998         1839465            2022-03-20        6          36   \n",
       "2199999          865579            2022-05-06       22         221   \n",
       "\n",
       "         loan_limit  loan_rate  is_applied   user_id  gender  credit_score  \\\n",
       "0         7000000.0        9.1         1.0  386164.0     1.0         610.0   \n",
       "1        27000000.0       15.6         1.0  527727.0     1.0         560.0   \n",
       "2         9000000.0        6.5         1.0  174786.0     1.0           0.0   \n",
       "3        31000000.0       15.0         1.0  152264.0     1.0         440.0   \n",
       "4        30000000.0       17.1         1.0   64018.0     1.0         580.0   \n",
       "...             ...        ...         ...       ...     ...           ...   \n",
       "2199995  10000000.0        6.5         0.0  602998.0     1.0         640.0   \n",
       "2199996   2000000.0       15.0         0.0   26952.0     1.0         750.0   \n",
       "2199997  37000000.0       11.9         0.0  707105.0     1.0         780.0   \n",
       "2199998  12000000.0       13.1         0.0  300465.0     0.0         700.0   \n",
       "2199999  10000000.0       18.4         0.0  139285.0     0.0           0.0   \n",
       "\n",
       "         ...  viewd_product appli_order limit_order loan_year  over_desire  \\\n",
       "0        ...             29        18.0         9.0  0.333333    -0.666667   \n",
       "1        ...              1         1.0         1.0  0.151515    -0.848485   \n",
       "2        ...              9         9.0         3.0  5.000000     4.000000   \n",
       "3        ...              9         1.0         1.0  0.238095    -0.761905   \n",
       "4        ...              4         1.0         2.0  0.020000    -0.980000   \n",
       "...      ...            ...         ...         ...       ...          ...   \n",
       "2199995  ...              9         1.0         2.0  0.689655    -0.310345   \n",
       "2199996  ...             40        10.0        40.0  1.000000     0.000000   \n",
       "2199997  ...             45        20.0        19.0  0.735294    -0.264706   \n",
       "2199998  ...             30         8.0        14.0  2.000000     1.000000   \n",
       "2199999  ...             54        38.0        33.0  0.555556    -0.444444   \n",
       "\n",
       "        over_desire2    news      ablilty         dsr  income_changed  \n",
       "0          -0.930070   95.46   476.666667   11.666667               0  \n",
       "1          -0.948454  107.22   293.939394   81.818182               0  \n",
       "2           1.000000  102.73     0.000000  900.000000               0  \n",
       "3           1.000000   94.39     0.000000   73.809524               0  \n",
       "4          -0.988636  106.02   176.000000   60.000000               0  \n",
       "...              ...     ...          ...         ...             ...  \n",
       "2199995    -0.939024  105.61  1131.034483   34.482759               0  \n",
       "2199996    -0.560440  103.80   227.500000    5.000000               0  \n",
       "2199997    -0.375000   95.27   117.647059   54.411765               0  \n",
       "2199998     0.052632  106.02   190.000000   60.000000               0  \n",
       "2199999     1.000000  103.17     0.000000   27.777778               0  \n",
       "\n",
       "[2200000 rows x 43 columns]"
      ]
     },
     "execution_count": 5,
     "metadata": {},
     "output_type": "execute_result"
    }
   ],
   "source": [
    "train"
   ]
  },
  {
   "cell_type": "code",
   "execution_count": null,
   "metadata": {
    "id": "2GFWP-RxocUg"
   },
   "outputs": [],
   "source": [
    "train.to_csv(\"/content/drive/Shareddrives/빅콘테스트/221009/1009_train.csv\", index=False)\n",
    "test.to_csv(\"/content/drive/Shareddrives/빅콘테스트/221009/1009_test.csv\", index=False)"
   ]
  }
 ],
 "metadata": {
  "colab": {
   "collapsed_sections": [],
   "provenance": []
  },
  "kernelspec": {
   "display_name": "Python 3",
   "language": "python",
   "name": "python3"
  },
  "language_info": {
   "codemirror_mode": {
    "name": "ipython",
    "version": 3
   },
   "file_extension": ".py",
   "mimetype": "text/x-python",
   "name": "python",
   "nbconvert_exporter": "python",
   "pygments_lexer": "ipython3",
   "version": "3.8.5"
  }
 },
 "nbformat": 4,
 "nbformat_minor": 1
}
